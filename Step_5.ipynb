{
  "nbformat": 4,
  "nbformat_minor": 0,
  "metadata": {
    "colab": {
      "provenance": [],
      "machine_shape": "hm",
      "gpuType": "A100"
    },
    "kernelspec": {
      "name": "python3",
      "display_name": "Python 3"
    },
    "language_info": {
      "name": "python"
    },
    "accelerator": "GPU"
  },
  "cells": [
    {
      "cell_type": "code",
      "execution_count": null,
      "metadata": {
        "colab": {
          "base_uri": "https://localhost:8080/"
        },
        "id": "RbQlXc87hi5U",
        "outputId": "6f634378-e309-44da-e531-af8389a1510f"
      },
      "outputs": [
        {
          "output_type": "stream",
          "name": "stdout",
          "text": [
            "Mounted at /content/drive\n",
            "Collecting rasterio\n",
            "  Downloading rasterio-1.4.3-cp311-cp311-manylinux_2_17_x86_64.manylinux2014_x86_64.whl.metadata (9.1 kB)\n",
            "Collecting affine (from rasterio)\n",
            "  Downloading affine-2.4.0-py3-none-any.whl.metadata (4.0 kB)\n",
            "Requirement already satisfied: attrs in /usr/local/lib/python3.11/dist-packages (from rasterio) (25.1.0)\n",
            "Requirement already satisfied: certifi in /usr/local/lib/python3.11/dist-packages (from rasterio) (2025.1.31)\n",
            "Requirement already satisfied: click>=4.0 in /usr/local/lib/python3.11/dist-packages (from rasterio) (8.1.8)\n",
            "Collecting cligj>=0.5 (from rasterio)\n",
            "  Downloading cligj-0.7.2-py3-none-any.whl.metadata (5.0 kB)\n",
            "Requirement already satisfied: numpy>=1.24 in /usr/local/lib/python3.11/dist-packages (from rasterio) (1.26.4)\n",
            "Collecting click-plugins (from rasterio)\n",
            "  Downloading click_plugins-1.1.1-py2.py3-none-any.whl.metadata (6.4 kB)\n",
            "Requirement already satisfied: pyparsing in /usr/local/lib/python3.11/dist-packages (from rasterio) (3.2.1)\n",
            "Downloading rasterio-1.4.3-cp311-cp311-manylinux_2_17_x86_64.manylinux2014_x86_64.whl (22.2 MB)\n",
            "\u001b[2K   \u001b[90m━━━━━━━━━━━━━━━━━━━━━━━━━━━━━━━━━━━━━━━━\u001b[0m \u001b[32m22.2/22.2 MB\u001b[0m \u001b[31m37.0 MB/s\u001b[0m eta \u001b[36m0:00:00\u001b[0m\n",
            "\u001b[?25hDownloading cligj-0.7.2-py3-none-any.whl (7.1 kB)\n",
            "Downloading affine-2.4.0-py3-none-any.whl (15 kB)\n",
            "Downloading click_plugins-1.1.1-py2.py3-none-any.whl (7.5 kB)\n",
            "Installing collected packages: cligj, click-plugins, affine, rasterio\n",
            "Successfully installed affine-2.4.0 click-plugins-1.1.1 cligj-0.7.2 rasterio-1.4.3\n"
          ]
        }
      ],
      "source": [
        "# Conexão do Google Drive\n",
        "from google.colab import drive\n",
        "drive.mount('/content/drive')\n",
        "\n",
        "# Instalação de biblioteca\n",
        "!pip install rasterio\n",
        "import pandas as pd\n",
        "import os\n",
        "import glob\n",
        "import rasterio\n",
        "from rasterio.enums import Resampling\n",
        "import numpy as np\n",
        "import matplotlib.colors as mcolors\n",
        "import matplotlib.pyplot as plt\n",
        "from matplotlib.colors import ListedColormap\n",
        "from rasterio.windows import Window\n",
        "import random\n",
        "from tqdm import tqdm\n",
        "import tensorflow\n",
        "import keras\n",
        "from rasterio.shutil import copy\n",
        "from rasterio.warp import transform\n",
        "\n",
        "#Declaração de variaveis\n",
        "bs = \"/content/drive/MyDrive/Unb/Plantio_direto/Patches_32x32\"\n",
        "\n",
        "#Define funções\n",
        "def detalhes(tiff_path):\n",
        "    \"\"\"Exibe informações detalhadas sobre um arquivo TIFF geoespacial.\"\"\"\n",
        "    with rasterio.open(tiff_path) as dataset:\n",
        "        print(f\"📂 Arquivo: {tiff_path}\")\n",
        "        print(f\"➡️ CRS: {dataset.crs}\")  # Sistema de Coordenadas de Referência\n",
        "        print(f\"➡️ Resolução: {dataset.res[0]}, {dataset.res[1]}\")  # Tamanho do pixel\n",
        "        print(f\"➡️ Dimensões: {dataset.width} x {dataset.height} (Largura x Altura)\")\n",
        "        print(f\"➡️ Quantidade de bandas: {dataset.count}\")\n",
        "        print(f\"➡️ Extensão: {dataset.bounds}\")  # Bounding box\n",
        "        print(f\"➡️ Tipo de dado das bandas: {[dataset.dtypes[i] for i in range(dataset.count)]}\")\n",
        "        print(f\"➡️ Perfil do dataset: {dataset.profile}\")  # Metadados gerais\n",
        "        print(f\"➡️ Transformação Afim (GeoTransform): {dataset.transform}\")  # Matriz de transformação espacial\n",
        "        print(f\"➡️ Valor NoData: {dataset.nodata}\")  # Valor que representa ausência de dados\n",
        "        print(f\"➡️ Metadata: {dataset.meta}\")  # Metadados completos\n",
        "\n",
        "#visualiza amostra do mapa\n",
        "def visualizar_tiff_reduzido(file_path, fator_reducao=10, cmap='gray', canal=1):\n",
        "    with rasterio.open(file_path) as src:\n",
        "        # Reduz a resolução da primeira banda\n",
        "        small_window = src.read(canal, out_shape=(src.height // fator_reducao, src.width // fator_reducao))\n",
        "        # Exibe a imagem reduzida\n",
        "        plt.figure(figsize=(10, 6))\n",
        "        plt.imshow(small_window, cmap=cmap)\n",
        "        # plt.colorbar()\n",
        "        plt.title(f\"Visualização rápida do TIFF (reduzido {fator_reducao}x)\")\n",
        "        plt.show()\n",
        "\n",
        "def rgb(tiff_path, bandas_rgb=(4, 3, 2), gamma=1.2, percentil=(1, 99)):\n",
        "    \"\"\"\n",
        "    Exibe a composição RGB de um patch TIFF e imprime suas coordenadas geográficas.\n",
        "\n",
        "    Args:\n",
        "        tiff_path (str): Caminho do arquivo TIFF.\n",
        "        bandas_rgb (tuple): Índices das bandas para o RGB (padrão: (4, 3, 2)).\n",
        "        gamma (float): Fator de correção gama para melhorar contraste.\n",
        "        percentil (tuple): Percentis para normalização (padrão: 1% e 99%).\n",
        "    \"\"\"\n",
        "    with rasterio.open(tiff_path) as dataset:\n",
        "        if max(bandas_rgb) > dataset.count:\n",
        "            print(f\"Erro: O arquivo tem apenas {dataset.count} bandas.\")\n",
        "            return\n",
        "\n",
        "        # Ler as bandas RGB\n",
        "        r = dataset.read(bandas_rgb[0]).astype(np.float32)\n",
        "        g = dataset.read(bandas_rgb[1]).astype(np.float32)\n",
        "        b = dataset.read(bandas_rgb[2]).astype(np.float32)\n",
        "\n",
        "        # Normalizar usando percentis mais conservadores\n",
        "        def normalizar(banda):\n",
        "            min_val, max_val = np.nanpercentile(banda, percentil)\n",
        "            return np.clip((banda - min_val) / (max_val - min_val + 1e-6), 0, 1)\n",
        "\n",
        "        r, g, b = map(normalizar, [r, g, b])\n",
        "\n",
        "        # Aplicar correção gama\n",
        "        def corrigir_gamma(banda, gamma):\n",
        "            return np.power(banda, 1/gamma)\n",
        "\n",
        "        r, g, b = map(lambda x: corrigir_gamma(x, gamma), [r, g, b])\n",
        "\n",
        "        # Criar imagem RGB\n",
        "        rgb = np.dstack((r, g, b))\n",
        "\n",
        "        # Obter coordenadas geográficas do centro e cantos do patch\n",
        "        transform = dataset.transform\n",
        "        height, width = dataset.height, dataset.width\n",
        "\n",
        "        # Canto superior esquerdo\n",
        "        lon1, lat1 = rasterio.transform.xy(transform, 0, 0)\n",
        "        # Canto inferior direito\n",
        "        lon2, lat2 = rasterio.transform.xy(transform, height - 1, width - 1)\n",
        "        # Centro do patch\n",
        "        center_x, center_y = width // 2, height // 2\n",
        "        lon_c, lat_c = rasterio.transform.xy(transform, center_y, center_x)\n",
        "\n",
        "        # Verificar se a projeção é geográfica (lat/lon)\n",
        "        if dataset.crs and dataset.crs.to_epsg() not in [4326]:  # Se não for WGS 84\n",
        "            from rasterio.warp import transform\n",
        "            lon1, lat1 = transform(dataset.crs, 'EPSG:4326', [lon1], [lat1])\n",
        "            lon2, lat2 = transform(dataset.crs, 'EPSG:4326', [lon2], [lat2])\n",
        "            lon_c, lat_c = transform(dataset.crs, 'EPSG:4326', [lon_c], [lat_c])\n",
        "            lon1, lat1, lon2, lat2, lon_c, lat_c = lon1[0], lat1[0], lon2[0], lat2[0], lon_c[0], lat_c[0]\n",
        "\n",
        "        # Exibir coordenadas geográficas\n",
        "        print(f\"📍 Coordenadas do patch:\")\n",
        "        print(f\"   Superior Esquerdo:  ({lat1:.6f}, {lon1:.6f})\")\n",
        "        print(f\"   Inferior Direito:   ({lat2:.6f}, {lon2:.6f})\")\n",
        "        print(f\"   Centro:             ({lat_c:.6f}, {lon_c:.6f})\")\n",
        "\n",
        "        # Exibir a imagem RGB\n",
        "        plt.figure(figsize=(5, 5))\n",
        "        plt.imshow(rgb)\n",
        "        plt.title(f\"Composição RGB - ({lat_c:.6f}, {lon_c:.6f})\")\n",
        "        plt.axis(\"off\")\n",
        "        plt.show()\n",
        "\n",
        "\n",
        "def analisar_patch(tiff_path, banda=18):\n",
        "    \"\"\"\n",
        "    Analisa um patch TIFF e exibe estatísticas da banda selecionada.\n",
        "\n",
        "    Args:\n",
        "        tiff_path (str): Caminho do arquivo TIFF.\n",
        "        banda (int): Índice da banda a ser analisada (padrão: 18).\n",
        "    \"\"\"\n",
        "    if not os.path.exists(tiff_path):\n",
        "        print(f\"Arquivo não encontrado: {tiff_path}\")\n",
        "        return\n",
        "\n",
        "    with rasterio.open(tiff_path) as dataset:\n",
        "        if banda > dataset.count:\n",
        "            print(f\"O arquivo tem apenas {dataset.count} bandas. A banda {banda} não existe.\")\n",
        "            return\n",
        "\n",
        "        banda_18 = dataset.read(banda).astype(np.float32)  # Ler banda 18 como float\n",
        "\n",
        "        # Exibir estatísticas\n",
        "        print(f\"📂 Analisando: {tiff_path}\")\n",
        "        print(f\"📏 Dimensões: {banda_18.shape}\")\n",
        "        print(f\"⚫ Valor NoData do TIFF: {dataset.nodata}\")\n",
        "        print(f\"🔢 Valores únicos: {np.unique(banda_18)}\")\n",
        "        print(f\"🔍 Mínimo: {np.min(banda_18)}, Máximo: {np.max(banda_18)}\")\n",
        "        print(f\"📊 Média: {np.mean(banda_18)}, Desvio padrão: {np.std(banda_18)}\")\n",
        "        print(f\"🛑 Pixels exatamente 0.0: {np.sum(banda_18 == 0.0)} / {banda_18.size}\")\n",
        "        print(f\"🚀 Pixels exatamente 1.0: {np.sum(banda_18 == 1.0)} / {banda_18.size}\")\n",
        "        print(f\"❓ Pixels NaN: {np.sum(np.isnan(banda_18))}\")\n",
        "\n",
        "        # Visualizar a banda 18\n",
        "        import matplotlib.pyplot as plt\n",
        "        plt.imshow(banda_18, cmap=\"gray\")\n",
        "        plt.colorbar()\n",
        "        plt.title(\"Banda 18 - Patch analisado\")\n",
        "        plt.show()\n",
        "\n",
        "def visualizar_patch_aleatorio(pasta_patches):\n",
        "    \"\"\"\n",
        "    Seleciona aleatoriamente um arquivo TIFF da pasta e exibe suas bandas.\n",
        "\n",
        "    Args:\n",
        "        pasta_patches (str): Caminho da pasta contendo os patches TIFF.\n",
        "    \"\"\"\n",
        "    # Obter a lista de arquivos na pasta\n",
        "    arquivos_tiff = [f for f in os.listdir(pasta_patches) if f.endswith(\".tiff\") or f.endswith(\".tif\")]\n",
        "\n",
        "    # Verificar se há arquivos na pasta\n",
        "    if not arquivos_tiff:\n",
        "        print(\"Nenhum arquivo TIFF encontrado na pasta.\")\n",
        "        return\n",
        "\n",
        "    # Escolher um arquivo aleatoriamente\n",
        "    tiff_escolhido = random.choice(arquivos_tiff)\n",
        "    tiff_path = os.path.join(pasta_patches, tiff_escolhido)\n",
        "\n",
        "    print(f\"📂 Exibindo: {tiff_escolhido}\")\n",
        "\n",
        "    # Abrir o arquivo e exibir as descrições das bandas\n",
        "    with rasterio.open(tiff_path) as dataset:\n",
        "        num_bands = dataset.count\n",
        "        fig, axes = plt.subplots(nrows=(num_bands // 5) + 1, ncols=5, figsize=(15, (num_bands // 5) * 3))\n",
        "\n",
        "        for i in range(num_bands):\n",
        "            band = dataset.read(i + 1).astype(np.float32)  # Lendo a banda (começa do 1)\n",
        "\n",
        "            # Obter valores mínimo e máximo da banda\n",
        "            band_min, band_max = np.nanmin(band), np.nanmax(band)\n",
        "            print(f\"📊 Banda {i+1} - Mín: {band_min}, Máx: {band_max}\")\n",
        "\n",
        "            # Evitar normalização errada se a banda for constante\n",
        "            if band_max == band_min:\n",
        "                # band = np.zeros_like(band)  # Evita dividir por zero, mantendo preto\n",
        "                band = np.ones_like(band)  # Evita dividir por zero, mantendo branco\n",
        "            else:\n",
        "                band = (band - band_min) / (band_max - band_min + 1e-6)  # Normalização\n",
        "\n",
        "            # Selecionando eixo correto na grade\n",
        "            ax = axes[i // 5, i % 5] if num_bands > 5 else axes[i]\n",
        "            ax.imshow(band, cmap='gray')\n",
        "            ax.set_title(f\"Banda {i+1}\")\n",
        "            ax.axis(\"off\")\n",
        "\n",
        "        # Removendo eixos vazios, se houver\n",
        "        for j in range(i+1, len(axes.flatten())):\n",
        "            fig.delaxes(axes.flatten()[j])\n",
        "\n",
        "        plt.tight_layout()\n",
        "        plt.show()"
      ]
    },
    {
      "cell_type": "code",
      "source": [
        "\n",
        "def visualizar_patch_aleatorio(pasta_patches):\n",
        "    \"\"\"\n",
        "    Seleciona aleatoriamente um arquivo TIFF da pasta e exibe suas bandas.\n",
        "\n",
        "    Args:\n",
        "        pasta_patches (str): Caminho da pasta contendo os patches TIFF.\n",
        "    \"\"\"\n",
        "    # Obter a lista de arquivos na pasta\n",
        "    arquivos_tiff = [f for f in os.listdir(pasta_patches) if f.endswith(\".tiff\") or f.endswith(\".tif\")]\n",
        "\n",
        "    # Verificar se há arquivos na pasta\n",
        "    if not arquivos_tiff:\n",
        "        print(\"Nenhum arquivo TIFF encontrado na pasta.\")\n",
        "        return\n",
        "\n",
        "    # Escolher um arquivo aleatoriamente\n",
        "    tiff_escolhido = random.choice(arquivos_tiff)\n",
        "    tiff_path = os.path.join(pasta_patches, tiff_escolhido)\n",
        "\n",
        "    print(f\"📂 Exibindo: {tiff_escolhido}\")\n",
        "\n",
        "    # Abrir o arquivo e exibir as descrições das bandas\n",
        "    with rasterio.open(tiff_path) as dataset:\n",
        "        num_bands = dataset.count\n",
        "        fig, axes = plt.subplots(nrows=(num_bands // 5) + 1, ncols=5, figsize=(15, (num_bands // 5) * 3))\n",
        "\n",
        "        for i in range(num_bands):\n",
        "            band = dataset.read(i + 1).astype(np.float32)  # Lendo a banda (começa do 1)\n",
        "\n",
        "            # Obter valores mínimo e máximo da banda\n",
        "            band_min, band_max = np.nanmin(band), np.nanmax(band)\n",
        "            print(f\"📊 Banda {i+1} - Mín: {band_min}, Máx: {band_max}\")\n",
        "\n",
        "            # Evitar normalização errada se a banda for constante\n",
        "            if band_max == band_min:\n",
        "                # band = np.zeros_like(band)  # Evita dividir por zero, mantendo preto\n",
        "                band = np.ones_like(band)  # Evita dividir por zero, mantendo branco\n",
        "            else:\n",
        "                band = (band - band_min) / (band_max - band_min + 1e-6)  # Normalização\n",
        "\n",
        "            # Selecionando eixo correto na grade\n",
        "            ax = axes[i // 5, i % 5] if num_bands > 5 else axes[i]\n",
        "            ax.imshow(band, cmap='gray', vmin=0, vmax=1)\n",
        "            ax.set_title(f\"Banda {i+1}\")\n",
        "            ax.axis(\"off\")\n",
        "\n",
        "        # Removendo eixos vazios, se houver\n",
        "        for j in range(i+1, len(axes.flatten())):\n",
        "            fig.delaxes(axes.flatten()[j])\n",
        "\n",
        "        plt.tight_layout()\n",
        "        plt.show()"
      ],
      "metadata": {
        "id": "IBP7VXiNCavb"
      },
      "execution_count": null,
      "outputs": []
    },
    {
      "cell_type": "code",
      "source": [
        "import os\n",
        "import numpy as np\n",
        "import pandas as pd\n",
        "import rasterio\n",
        "import tensorflow as tf\n",
        "from tensorflow import keras\n",
        "from tensorflow.keras import layers\n",
        "from rasterio.enums import Resampling\n",
        "from sklearn.model_selection import train_test_split\n",
        "from tensorflow.keras.callbacks import ModelCheckpoint, CSVLogger\n",
        "\n",
        "# 📌 Configurar caminhos no Google Drive\n",
        "pasta_patches = \"/content/drive/MyDrive/Unb/Plantio_direto/Patches_32x32\"\n",
        "pasta_checkpoint = \"/content/drive/MyDrive/Unb/Autoencoder_Checkpoints\"\n",
        "pasta_logs = \"/content/drive/MyDrive/Unb/Autoencoder_Logs\"\n",
        "\n",
        "# Criar diretórios, se não existirem\n",
        "os.makedirs(pasta_checkpoint, exist_ok=True)\n",
        "os.makedirs(pasta_logs, exist_ok=True)\n",
        "\n",
        "# 🔹 Definir os hiperparâmetros\n",
        "IMG_SIZE = 32\n",
        "NUM_BANDS = 16  # 16 bandas espectrais\n",
        "LATENT_DIM = 128  # Dimensão do espaço latente\n",
        "BATCH_SIZE = 32\n",
        "EPOCHS = 50\n",
        "\n",
        "# 🔹 Listar arquivos TIFF na pasta\n",
        "arquivos_tiff = [os.path.join(pasta_patches, f) for f in os.listdir(pasta_patches) if f.endswith(\".tif\")]\n",
        "\n",
        "# 🔹 Função para carregar imagens TIFF como arrays normalizados\n",
        "def carregar_patches(arquivos_tiff):\n",
        "    imagens = []\n",
        "    for arquivo in arquivos_tiff:\n",
        "        with rasterio.open(arquivo) as dataset:\n",
        "            img = dataset.read(out_shape=(NUM_BANDS, IMG_SIZE, IMG_SIZE), resampling=Resampling.bilinear)\n",
        "            img = img.astype(np.float32) / 255.0  # Normalizar para [0,1]\n",
        "            imagens.append(np.transpose(img, (1, 2, 0)))  # Converter para (32,32,16)\n",
        "    return np.array(imagens)\n",
        "\n",
        "# 🔹 Carregar as imagens e dividir em treino/teste\n",
        "imagens = carregar_patches(arquivos_tiff)\n",
        "X_train, X_test = train_test_split(imagens, test_size=0.2, random_state=42)\n",
        "\n",
        "# 🔹 Criar o Autoencoder\n",
        "def criar_autoencoder():\n",
        "    input_img = keras.Input(shape=(IMG_SIZE, IMG_SIZE, NUM_BANDS))\n",
        "\n",
        "    # Encoder\n",
        "    x = layers.Conv2D(32, (3, 3), activation='relu', padding='same')(input_img)\n",
        "    x = layers.MaxPooling2D((2, 2), padding='same')(x)\n",
        "    x = layers.Conv2D(64, (3, 3), activation='relu', padding='same')(x)\n",
        "    x = layers.MaxPooling2D((2, 2), padding='same')(x)\n",
        "    x = layers.Conv2D(128, (3, 3), activation='relu', padding='same')(x)\n",
        "    encoded = layers.Flatten()(x)\n",
        "    encoded = layers.Dense(LATENT_DIM, activation='relu')(encoded)\n",
        "\n",
        "    # Decoder\n",
        "    x = layers.Dense(8 * 8 * 128, activation='relu')(encoded)\n",
        "    x = layers.Reshape((8, 8, 128))(x)\n",
        "    x = layers.Conv2DTranspose(64, (3, 3), activation='relu', padding='same')(x)\n",
        "    x = layers.UpSampling2D((2, 2))(x)\n",
        "    x = layers.Conv2DTranspose(32, (3, 3), activation='relu', padding='same')(x)\n",
        "    x = layers.UpSampling2D((2, 2))(x)\n",
        "    decoded = layers.Conv2D(NUM_BANDS, (3, 3), activation='sigmoid', padding='same')(x)\n",
        "\n",
        "    autoencoder = keras.Model(input_img, decoded)\n",
        "    autoencoder.compile(optimizer='adam', loss='mse')\n",
        "\n",
        "    return autoencoder\n",
        "\n",
        "# 🔹 Criar o modelo\n",
        "autoencoder = criar_autoencoder()\n",
        "\n",
        "# 🔹 Configurar callbacks para salvar checkpoints e logs\n",
        "checkpoint_path = os.path.join(pasta_checkpoint, \"autoencoder_best.h5\")\n",
        "csv_logger_path = os.path.join(pasta_logs, \"training_log.csv\")\n",
        "\n",
        "checkpoint = ModelCheckpoint(checkpoint_path, monitor='val_loss', save_best_only=True, verbose=1)\n",
        "csv_logger = CSVLogger(csv_logger_path, append=True)\n",
        "\n",
        "# 🔹 Treinar o Autoencoder\n",
        "history = autoencoder.fit(\n",
        "    X_train, X_train,\n",
        "    validation_data=(X_test, X_test),\n",
        "    epochs=EPOCHS,\n",
        "    batch_size=BATCH_SIZE,\n",
        "    callbacks=[checkpoint, csv_logger]\n",
        ")\n",
        "\n",
        "# 🔹 Salvar logs de treinamento em um DataFrame\n",
        "df_logs = pd.read_csv(csv_logger_path)\n",
        "print(df_logs.tail())  # Mostrar últimas entradas\n",
        "\n",
        "# 🔹 Salvar modelo final\n",
        "modelo_final_path = os.path.join(pasta_checkpoint, \"autoencoder_final.h5\")\n",
        "autoencoder.save(modelo_final_path)\n",
        "\n",
        "print(f\"✅ Treinamento concluído. Modelo salvo em: {modelo_final_path}\")\n"
      ],
      "metadata": {
        "colab": {
          "base_uri": "https://localhost:8080/"
        },
        "id": "POF4TdEYjMe4",
        "outputId": "cb1fe828-ac6a-4324-b4d4-615ebf65ac6e"
      },
      "execution_count": null,
      "outputs": [
        {
          "output_type": "stream",
          "name": "stdout",
          "text": [
            "Epoch 1/50\n",
            "\u001b[1m18/18\u001b[0m \u001b[32m━━━━━━━━━━━━━━━━━━━━\u001b[0m\u001b[37m\u001b[0m \u001b[1m0s\u001b[0m 209ms/step - loss: 0.1322\n",
            "Epoch 1: val_loss improved from inf to 0.00435, saving model to /content/drive/MyDrive/Unb/Autoencoder_Checkpoints/autoencoder_best.h5\n"
          ]
        },
        {
          "output_type": "stream",
          "name": "stderr",
          "text": [
            "WARNING:absl:You are saving your model as an HDF5 file via `model.save()` or `keras.saving.save_model(model)`. This file format is considered legacy. We recommend using instead the native Keras format, e.g. `model.save('my_model.keras')` or `keras.saving.save_model(model, 'my_model.keras')`. \n"
          ]
        },
        {
          "output_type": "stream",
          "name": "stdout",
          "text": [
            "\b\b\b\b\b\b\b\b\b\b\b\b\b\b\b\b\b\b\b\b\b\b\b\b\b\b\b\b\b\b\b\b\b\b\b\b\b\b\b\b\b\b\b\b\b\b\b\b\b\b\b\b\b\b\b\r\u001b[1m18/18\u001b[0m \u001b[32m━━━━━━━━━━━━━━━━━━━━\u001b[0m\u001b[37m\u001b[0m \u001b[1m9s\u001b[0m 285ms/step - loss: 0.1282 - val_loss: 0.0044\n",
            "Epoch 2/50\n",
            "\u001b[1m18/18\u001b[0m \u001b[32m━━━━━━━━━━━━━━━━━━━━\u001b[0m\u001b[37m\u001b[0m \u001b[1m0s\u001b[0m 268ms/step - loss: 0.0043\n",
            "Epoch 2: val_loss did not improve from 0.00435\n",
            "\u001b[1m18/18\u001b[0m \u001b[32m━━━━━━━━━━━━━━━━━━━━\u001b[0m\u001b[37m\u001b[0m \u001b[1m5s\u001b[0m 288ms/step - loss: 0.0043 - val_loss: 0.0044\n",
            "Epoch 3/50\n",
            "\u001b[1m18/18\u001b[0m \u001b[32m━━━━━━━━━━━━━━━━━━━━\u001b[0m\u001b[37m\u001b[0m \u001b[1m0s\u001b[0m 187ms/step - loss: 0.0043\n",
            "Epoch 3: val_loss did not improve from 0.00435\n",
            "\u001b[1m18/18\u001b[0m \u001b[32m━━━━━━━━━━━━━━━━━━━━\u001b[0m\u001b[37m\u001b[0m \u001b[1m9s\u001b[0m 208ms/step - loss: 0.0043 - val_loss: 0.0044\n",
            "Epoch 4/50\n",
            "\u001b[1m18/18\u001b[0m \u001b[32m━━━━━━━━━━━━━━━━━━━━\u001b[0m\u001b[37m\u001b[0m \u001b[1m0s\u001b[0m 261ms/step - loss: 0.0043\n",
            "Epoch 4: val_loss did not improve from 0.00435\n",
            "\u001b[1m18/18\u001b[0m \u001b[32m━━━━━━━━━━━━━━━━━━━━\u001b[0m\u001b[37m\u001b[0m \u001b[1m6s\u001b[0m 282ms/step - loss: 0.0043 - val_loss: 0.0044\n",
            "Epoch 5/50\n",
            "\u001b[1m18/18\u001b[0m \u001b[32m━━━━━━━━━━━━━━━━━━━━\u001b[0m\u001b[37m\u001b[0m \u001b[1m0s\u001b[0m 200ms/step - loss: 0.0043\n",
            "Epoch 5: val_loss did not improve from 0.00435\n",
            "\u001b[1m18/18\u001b[0m \u001b[32m━━━━━━━━━━━━━━━━━━━━\u001b[0m\u001b[37m\u001b[0m \u001b[1m9s\u001b[0m 230ms/step - loss: 0.0043 - val_loss: 0.0044\n",
            "Epoch 6/50\n",
            "\u001b[1m18/18\u001b[0m \u001b[32m━━━━━━━━━━━━━━━━━━━━\u001b[0m\u001b[37m\u001b[0m \u001b[1m0s\u001b[0m 230ms/step - loss: 0.0043\n",
            "Epoch 6: val_loss did not improve from 0.00435\n",
            "\u001b[1m18/18\u001b[0m \u001b[32m━━━━━━━━━━━━━━━━━━━━\u001b[0m\u001b[37m\u001b[0m \u001b[1m6s\u001b[0m 247ms/step - loss: 0.0043 - val_loss: 0.0044\n",
            "Epoch 7/50\n",
            "\u001b[1m18/18\u001b[0m \u001b[32m━━━━━━━━━━━━━━━━━━━━\u001b[0m\u001b[37m\u001b[0m \u001b[1m0s\u001b[0m 185ms/step - loss: 0.0043\n",
            "Epoch 7: val_loss did not improve from 0.00435\n",
            "\u001b[1m18/18\u001b[0m \u001b[32m━━━━━━━━━━━━━━━━━━━━\u001b[0m\u001b[37m\u001b[0m \u001b[1m4s\u001b[0m 202ms/step - loss: 0.0043 - val_loss: 0.0044\n",
            "Epoch 8/50\n",
            "\u001b[1m18/18\u001b[0m \u001b[32m━━━━━━━━━━━━━━━━━━━━\u001b[0m\u001b[37m\u001b[0m \u001b[1m0s\u001b[0m 250ms/step - loss: 0.0043\n",
            "Epoch 8: val_loss did not improve from 0.00435\n",
            "\u001b[1m18/18\u001b[0m \u001b[32m━━━━━━━━━━━━━━━━━━━━\u001b[0m\u001b[37m\u001b[0m \u001b[1m7s\u001b[0m 291ms/step - loss: 0.0043 - val_loss: 0.0044\n",
            "Epoch 9/50\n",
            "\u001b[1m18/18\u001b[0m \u001b[32m━━━━━━━━━━━━━━━━━━━━\u001b[0m\u001b[37m\u001b[0m \u001b[1m0s\u001b[0m 188ms/step - loss: 0.0043\n",
            "Epoch 9: val_loss did not improve from 0.00435\n",
            "\u001b[1m18/18\u001b[0m \u001b[32m━━━━━━━━━━━━━━━━━━━━\u001b[0m\u001b[37m\u001b[0m \u001b[1m9s\u001b[0m 209ms/step - loss: 0.0043 - val_loss: 0.0044\n",
            "Epoch 10/50\n",
            "\u001b[1m18/18\u001b[0m \u001b[32m━━━━━━━━━━━━━━━━━━━━\u001b[0m\u001b[37m\u001b[0m \u001b[1m0s\u001b[0m 292ms/step - loss: 0.0043\n",
            "Epoch 10: val_loss did not improve from 0.00435\n",
            "\u001b[1m18/18\u001b[0m \u001b[32m━━━━━━━━━━━━━━━━━━━━\u001b[0m\u001b[37m\u001b[0m \u001b[1m7s\u001b[0m 334ms/step - loss: 0.0043 - val_loss: 0.0044\n",
            "Epoch 11/50\n",
            "\u001b[1m18/18\u001b[0m \u001b[32m━━━━━━━━━━━━━━━━━━━━\u001b[0m\u001b[37m\u001b[0m \u001b[1m0s\u001b[0m 224ms/step - loss: 0.0043\n",
            "Epoch 11: val_loss did not improve from 0.00435\n",
            "\u001b[1m18/18\u001b[0m \u001b[32m━━━━━━━━━━━━━━━━━━━━\u001b[0m\u001b[37m\u001b[0m \u001b[1m9s\u001b[0m 241ms/step - loss: 0.0043 - val_loss: 0.0044\n",
            "Epoch 12/50\n",
            "\u001b[1m18/18\u001b[0m \u001b[32m━━━━━━━━━━━━━━━━━━━━\u001b[0m\u001b[37m\u001b[0m \u001b[1m0s\u001b[0m 271ms/step - loss: 0.0043\n",
            "Epoch 12: val_loss did not improve from 0.00435\n",
            "\u001b[1m18/18\u001b[0m \u001b[32m━━━━━━━━━━━━━━━━━━━━\u001b[0m\u001b[37m\u001b[0m \u001b[1m5s\u001b[0m 300ms/step - loss: 0.0043 - val_loss: 0.0044\n",
            "Epoch 13/50\n",
            "\u001b[1m18/18\u001b[0m \u001b[32m━━━━━━━━━━━━━━━━━━━━\u001b[0m\u001b[37m\u001b[0m \u001b[1m0s\u001b[0m 211ms/step - loss: 0.0043\n",
            "Epoch 13: val_loss did not improve from 0.00435\n",
            "\u001b[1m18/18\u001b[0m \u001b[32m━━━━━━━━━━━━━━━━━━━━\u001b[0m\u001b[37m\u001b[0m \u001b[1m4s\u001b[0m 232ms/step - loss: 0.0043 - val_loss: 0.0044\n",
            "Epoch 14/50\n",
            "\u001b[1m18/18\u001b[0m \u001b[32m━━━━━━━━━━━━━━━━━━━━\u001b[0m\u001b[37m\u001b[0m \u001b[1m0s\u001b[0m 196ms/step - loss: 0.0043\n",
            "Epoch 14: val_loss did not improve from 0.00435\n",
            "\u001b[1m18/18\u001b[0m \u001b[32m━━━━━━━━━━━━━━━━━━━━\u001b[0m\u001b[37m\u001b[0m \u001b[1m4s\u001b[0m 217ms/step - loss: 0.0043 - val_loss: 0.0044\n",
            "Epoch 15/50\n",
            "\u001b[1m18/18\u001b[0m \u001b[32m━━━━━━━━━━━━━━━━━━━━\u001b[0m\u001b[37m\u001b[0m \u001b[1m0s\u001b[0m 263ms/step - loss: 0.0043\n",
            "Epoch 15: val_loss did not improve from 0.00435\n",
            "\u001b[1m18/18\u001b[0m \u001b[32m━━━━━━━━━━━━━━━━━━━━\u001b[0m\u001b[37m\u001b[0m \u001b[1m7s\u001b[0m 303ms/step - loss: 0.0043 - val_loss: 0.0044\n",
            "Epoch 16/50\n",
            "\u001b[1m18/18\u001b[0m \u001b[32m━━━━━━━━━━━━━━━━━━━━\u001b[0m\u001b[37m\u001b[0m \u001b[1m0s\u001b[0m 193ms/step - loss: 0.0043\n",
            "Epoch 16: val_loss did not improve from 0.00435\n",
            "\u001b[1m18/18\u001b[0m \u001b[32m━━━━━━━━━━━━━━━━━━━━\u001b[0m\u001b[37m\u001b[0m \u001b[1m9s\u001b[0m 214ms/step - loss: 0.0043 - val_loss: 0.0044\n",
            "Epoch 17/50\n",
            "\u001b[1m18/18\u001b[0m \u001b[32m━━━━━━━━━━━━━━━━━━━━\u001b[0m\u001b[37m\u001b[0m \u001b[1m0s\u001b[0m 294ms/step - loss: 0.0043\n",
            "Epoch 17: val_loss did not improve from 0.00435\n",
            "\u001b[1m18/18\u001b[0m \u001b[32m━━━━━━━━━━━━━━━━━━━━\u001b[0m\u001b[37m\u001b[0m \u001b[1m7s\u001b[0m 322ms/step - loss: 0.0043 - val_loss: 0.0044\n",
            "Epoch 18/50\n",
            "\u001b[1m18/18\u001b[0m \u001b[32m━━━━━━━━━━━━━━━━━━━━\u001b[0m\u001b[37m\u001b[0m \u001b[1m0s\u001b[0m 190ms/step - loss: 0.0043\n",
            "Epoch 18: val_loss did not improve from 0.00435\n",
            "\u001b[1m18/18\u001b[0m \u001b[32m━━━━━━━━━━━━━━━━━━━━\u001b[0m\u001b[37m\u001b[0m \u001b[1m8s\u001b[0m 211ms/step - loss: 0.0043 - val_loss: 0.0044\n",
            "Epoch 19/50\n",
            "\u001b[1m18/18\u001b[0m \u001b[32m━━━━━━━━━━━━━━━━━━━━\u001b[0m\u001b[37m\u001b[0m \u001b[1m0s\u001b[0m 307ms/step - loss: 0.0043\n",
            "Epoch 19: val_loss did not improve from 0.00435\n",
            "\u001b[1m18/18\u001b[0m \u001b[32m━━━━━━━━━━━━━━━━━━━━\u001b[0m\u001b[37m\u001b[0m \u001b[1m7s\u001b[0m 328ms/step - loss: 0.0043 - val_loss: 0.0044\n",
            "Epoch 20/50\n",
            "\u001b[1m18/18\u001b[0m \u001b[32m━━━━━━━━━━━━━━━━━━━━\u001b[0m\u001b[37m\u001b[0m \u001b[1m0s\u001b[0m 197ms/step - loss: 0.0044\n",
            "Epoch 20: val_loss did not improve from 0.00435\n",
            "\u001b[1m18/18\u001b[0m \u001b[32m━━━━━━━━━━━━━━━━━━━━\u001b[0m\u001b[37m\u001b[0m \u001b[1m8s\u001b[0m 215ms/step - loss: 0.0044 - val_loss: 0.0044\n",
            "Epoch 21/50\n",
            "\u001b[1m18/18\u001b[0m \u001b[32m━━━━━━━━━━━━━━━━━━━━\u001b[0m\u001b[37m\u001b[0m \u001b[1m0s\u001b[0m 381ms/step - loss: 0.0044\n",
            "Epoch 21: val_loss did not improve from 0.00435\n",
            "\u001b[1m18/18\u001b[0m \u001b[32m━━━━━━━━━━━━━━━━━━━━\u001b[0m\u001b[37m\u001b[0m \u001b[1m8s\u001b[0m 401ms/step - loss: 0.0044 - val_loss: 0.0044\n",
            "Epoch 22/50\n",
            "\u001b[1m18/18\u001b[0m \u001b[32m━━━━━━━━━━━━━━━━━━━━\u001b[0m\u001b[37m\u001b[0m \u001b[1m0s\u001b[0m 189ms/step - loss: 0.0043\n",
            "Epoch 22: val_loss did not improve from 0.00435\n",
            "\u001b[1m18/18\u001b[0m \u001b[32m━━━━━━━━━━━━━━━━━━━━\u001b[0m\u001b[37m\u001b[0m \u001b[1m7s\u001b[0m 209ms/step - loss: 0.0043 - val_loss: 0.0044\n",
            "Epoch 23/50\n",
            "\u001b[1m18/18\u001b[0m \u001b[32m━━━━━━━━━━━━━━━━━━━━\u001b[0m\u001b[37m\u001b[0m \u001b[1m0s\u001b[0m 259ms/step - loss: 0.0043\n",
            "Epoch 23: val_loss did not improve from 0.00435\n",
            "\u001b[1m18/18\u001b[0m \u001b[32m━━━━━━━━━━━━━━━━━━━━\u001b[0m\u001b[37m\u001b[0m \u001b[1m5s\u001b[0m 287ms/step - loss: 0.0043 - val_loss: 0.0044\n",
            "Epoch 24/50\n",
            "\u001b[1m18/18\u001b[0m \u001b[32m━━━━━━━━━━━━━━━━━━━━\u001b[0m\u001b[37m\u001b[0m \u001b[1m0s\u001b[0m 226ms/step - loss: 0.0044\n",
            "Epoch 24: val_loss did not improve from 0.00435\n",
            "\u001b[1m18/18\u001b[0m \u001b[32m━━━━━━━━━━━━━━━━━━━━\u001b[0m\u001b[37m\u001b[0m \u001b[1m5s\u001b[0m 248ms/step - loss: 0.0044 - val_loss: 0.0044\n",
            "Epoch 25/50\n",
            "\u001b[1m18/18\u001b[0m \u001b[32m━━━━━━━━━━━━━━━━━━━━\u001b[0m\u001b[37m\u001b[0m \u001b[1m0s\u001b[0m 193ms/step - loss: 0.0044\n",
            "Epoch 25: val_loss did not improve from 0.00435\n",
            "\u001b[1m18/18\u001b[0m \u001b[32m━━━━━━━━━━━━━━━━━━━━\u001b[0m\u001b[37m\u001b[0m \u001b[1m4s\u001b[0m 209ms/step - loss: 0.0044 - val_loss: 0.0044\n",
            "Epoch 26/50\n",
            "\u001b[1m18/18\u001b[0m \u001b[32m━━━━━━━━━━━━━━━━━━━━\u001b[0m\u001b[37m\u001b[0m \u001b[1m0s\u001b[0m 246ms/step - loss: 0.0043\n",
            "Epoch 26: val_loss did not improve from 0.00435\n",
            "\u001b[1m18/18\u001b[0m \u001b[32m━━━━━━━━━━━━━━━━━━━━\u001b[0m\u001b[37m\u001b[0m \u001b[1m6s\u001b[0m 288ms/step - loss: 0.0043 - val_loss: 0.0044\n",
            "Epoch 27/50\n",
            "\u001b[1m18/18\u001b[0m \u001b[32m━━━━━━━━━━━━━━━━━━━━\u001b[0m\u001b[37m\u001b[0m \u001b[1m0s\u001b[0m 231ms/step - loss: 0.0043\n",
            "Epoch 27: val_loss did not improve from 0.00435\n",
            "\u001b[1m18/18\u001b[0m \u001b[32m━━━━━━━━━━━━━━━━━━━━\u001b[0m\u001b[37m\u001b[0m \u001b[1m5s\u001b[0m 251ms/step - loss: 0.0043 - val_loss: 0.0044\n",
            "Epoch 28/50\n",
            "\u001b[1m18/18\u001b[0m \u001b[32m━━━━━━━━━━━━━━━━━━━━\u001b[0m\u001b[37m\u001b[0m \u001b[1m0s\u001b[0m 198ms/step - loss: 0.0043\n",
            "Epoch 28: val_loss did not improve from 0.00435\n",
            "\u001b[1m18/18\u001b[0m \u001b[32m━━━━━━━━━━━━━━━━━━━━\u001b[0m\u001b[37m\u001b[0m \u001b[1m4s\u001b[0m 215ms/step - loss: 0.0043 - val_loss: 0.0044\n",
            "Epoch 29/50\n",
            "\u001b[1m18/18\u001b[0m \u001b[32m━━━━━━━━━━━━━━━━━━━━\u001b[0m\u001b[37m\u001b[0m \u001b[1m0s\u001b[0m 244ms/step - loss: 0.0043\n",
            "Epoch 29: val_loss did not improve from 0.00435\n",
            "\u001b[1m18/18\u001b[0m \u001b[32m━━━━━━━━━━━━━━━━━━━━\u001b[0m\u001b[37m\u001b[0m \u001b[1m6s\u001b[0m 286ms/step - loss: 0.0043 - val_loss: 0.0044\n",
            "Epoch 30/50\n",
            "\u001b[1m18/18\u001b[0m \u001b[32m━━━━━━━━━━━━━━━━━━━━\u001b[0m\u001b[37m\u001b[0m \u001b[1m0s\u001b[0m 198ms/step - loss: 0.0044\n",
            "Epoch 30: val_loss did not improve from 0.00435\n",
            "\u001b[1m18/18\u001b[0m \u001b[32m━━━━━━━━━━━━━━━━━━━━\u001b[0m\u001b[37m\u001b[0m \u001b[1m9s\u001b[0m 215ms/step - loss: 0.0044 - val_loss: 0.0044\n",
            "Epoch 31/50\n",
            "\u001b[1m18/18\u001b[0m \u001b[32m━━━━━━━━━━━━━━━━━━━━\u001b[0m\u001b[37m\u001b[0m \u001b[1m0s\u001b[0m 249ms/step - loss: 0.0044\n",
            "Epoch 31: val_loss did not improve from 0.00435\n",
            "\u001b[1m18/18\u001b[0m \u001b[32m━━━━━━━━━━━━━━━━━━━━\u001b[0m\u001b[37m\u001b[0m \u001b[1m5s\u001b[0m 290ms/step - loss: 0.0044 - val_loss: 0.0044\n",
            "Epoch 32/50\n",
            "\u001b[1m18/18\u001b[0m \u001b[32m━━━━━━━━━━━━━━━━━━━━\u001b[0m\u001b[37m\u001b[0m \u001b[1m0s\u001b[0m 191ms/step - loss: 0.0043\n",
            "Epoch 32: val_loss did not improve from 0.00435\n",
            "\u001b[1m18/18\u001b[0m \u001b[32m━━━━━━━━━━━━━━━━━━━━\u001b[0m\u001b[37m\u001b[0m \u001b[1m9s\u001b[0m 208ms/step - loss: 0.0043 - val_loss: 0.0044\n",
            "Epoch 33/50\n",
            "\u001b[1m18/18\u001b[0m \u001b[32m━━━━━━━━━━━━━━━━━━━━\u001b[0m\u001b[37m\u001b[0m \u001b[1m0s\u001b[0m 300ms/step - loss: 0.0043\n",
            "Epoch 33: val_loss did not improve from 0.00435\n",
            "\u001b[1m18/18\u001b[0m \u001b[32m━━━━━━━━━━━━━━━━━━━━\u001b[0m\u001b[37m\u001b[0m \u001b[1m7s\u001b[0m 341ms/step - loss: 0.0043 - val_loss: 0.0044\n",
            "Epoch 34/50\n",
            "\u001b[1m18/18\u001b[0m \u001b[32m━━━━━━━━━━━━━━━━━━━━\u001b[0m\u001b[37m\u001b[0m \u001b[1m0s\u001b[0m 187ms/step - loss: 0.0043\n",
            "Epoch 34: val_loss did not improve from 0.00435\n",
            "\u001b[1m18/18\u001b[0m \u001b[32m━━━━━━━━━━━━━━━━━━━━\u001b[0m\u001b[37m\u001b[0m \u001b[1m8s\u001b[0m 208ms/step - loss: 0.0043 - val_loss: 0.0044\n",
            "Epoch 35/50\n",
            "\u001b[1m18/18\u001b[0m \u001b[32m━━━━━━━━━━━━━━━━━━━━\u001b[0m\u001b[37m\u001b[0m \u001b[1m0s\u001b[0m 259ms/step - loss: 0.0043\n",
            "Epoch 35: val_loss did not improve from 0.00435\n",
            "\u001b[1m18/18\u001b[0m \u001b[32m━━━━━━━━━━━━━━━━━━━━\u001b[0m\u001b[37m\u001b[0m \u001b[1m5s\u001b[0m 301ms/step - loss: 0.0043 - val_loss: 0.0044\n",
            "Epoch 36/50\n",
            "\u001b[1m18/18\u001b[0m \u001b[32m━━━━━━━━━━━━━━━━━━━━\u001b[0m\u001b[37m\u001b[0m \u001b[1m0s\u001b[0m 223ms/step - loss: 0.0043\n",
            "Epoch 36: val_loss did not improve from 0.00435\n",
            "\u001b[1m18/18\u001b[0m \u001b[32m━━━━━━━━━━━━━━━━━━━━\u001b[0m\u001b[37m\u001b[0m \u001b[1m4s\u001b[0m 240ms/step - loss: 0.0043 - val_loss: 0.0044\n",
            "Epoch 37/50\n",
            "\u001b[1m18/18\u001b[0m \u001b[32m━━━━━━━━━━━━━━━━━━━━\u001b[0m\u001b[37m\u001b[0m \u001b[1m0s\u001b[0m 189ms/step - loss: 0.0043\n",
            "Epoch 37: val_loss did not improve from 0.00435\n",
            "\u001b[1m18/18\u001b[0m \u001b[32m━━━━━━━━━━━━━━━━━━━━\u001b[0m\u001b[37m\u001b[0m \u001b[1m4s\u001b[0m 207ms/step - loss: 0.0043 - val_loss: 0.0044\n",
            "Epoch 38/50\n",
            "\u001b[1m18/18\u001b[0m \u001b[32m━━━━━━━━━━━━━━━━━━━━\u001b[0m\u001b[37m\u001b[0m \u001b[1m0s\u001b[0m 227ms/step - loss: 0.0043\n",
            "Epoch 38: val_loss did not improve from 0.00435\n",
            "\u001b[1m18/18\u001b[0m \u001b[32m━━━━━━━━━━━━━━━━━━━━\u001b[0m\u001b[37m\u001b[0m \u001b[1m5s\u001b[0m 254ms/step - loss: 0.0043 - val_loss: 0.0044\n",
            "Epoch 39/50\n",
            "\u001b[1m18/18\u001b[0m \u001b[32m━━━━━━━━━━━━━━━━━━━━\u001b[0m\u001b[37m\u001b[0m \u001b[1m0s\u001b[0m 226ms/step - loss: 0.0044\n",
            "Epoch 39: val_loss did not improve from 0.00435\n",
            "\u001b[1m18/18\u001b[0m \u001b[32m━━━━━━━━━━━━━━━━━━━━\u001b[0m\u001b[37m\u001b[0m \u001b[1m5s\u001b[0m 243ms/step - loss: 0.0044 - val_loss: 0.0044\n",
            "Epoch 40/50\n",
            "\u001b[1m18/18\u001b[0m \u001b[32m━━━━━━━━━━━━━━━━━━━━\u001b[0m\u001b[37m\u001b[0m \u001b[1m0s\u001b[0m 192ms/step - loss: 0.0043\n",
            "Epoch 40: val_loss did not improve from 0.00435\n",
            "\u001b[1m18/18\u001b[0m \u001b[32m━━━━━━━━━━━━━━━━━━━━\u001b[0m\u001b[37m\u001b[0m \u001b[1m4s\u001b[0m 209ms/step - loss: 0.0043 - val_loss: 0.0044\n",
            "Epoch 41/50\n",
            "\u001b[1m18/18\u001b[0m \u001b[32m━━━━━━━━━━━━━━━━━━━━\u001b[0m\u001b[37m\u001b[0m \u001b[1m0s\u001b[0m 256ms/step - loss: 0.0044\n",
            "Epoch 41: val_loss did not improve from 0.00435\n",
            "\u001b[1m18/18\u001b[0m \u001b[32m━━━━━━━━━━━━━━━━━━━━\u001b[0m\u001b[37m\u001b[0m \u001b[1m7s\u001b[0m 297ms/step - loss: 0.0044 - val_loss: 0.0044\n",
            "Epoch 42/50\n",
            "\u001b[1m18/18\u001b[0m \u001b[32m━━━━━━━━━━━━━━━━━━━━\u001b[0m\u001b[37m\u001b[0m \u001b[1m0s\u001b[0m 195ms/step - loss: 0.0043\n",
            "Epoch 42: val_loss did not improve from 0.00435\n",
            "\u001b[1m18/18\u001b[0m \u001b[32m━━━━━━━━━━━━━━━━━━━━\u001b[0m\u001b[37m\u001b[0m \u001b[1m9s\u001b[0m 216ms/step - loss: 0.0043 - val_loss: 0.0044\n",
            "Epoch 43/50\n",
            "\u001b[1m18/18\u001b[0m \u001b[32m━━━━━━━━━━━━━━━━━━━━\u001b[0m\u001b[37m\u001b[0m \u001b[1m0s\u001b[0m 267ms/step - loss: 0.0043\n",
            "Epoch 43: val_loss did not improve from 0.00435\n",
            "\u001b[1m18/18\u001b[0m \u001b[32m━━━━━━━━━━━━━━━━━━━━\u001b[0m\u001b[37m\u001b[0m \u001b[1m5s\u001b[0m 308ms/step - loss: 0.0043 - val_loss: 0.0044\n",
            "Epoch 44/50\n",
            "\u001b[1m18/18\u001b[0m \u001b[32m━━━━━━━━━━━━━━━━━━━━\u001b[0m\u001b[37m\u001b[0m \u001b[1m0s\u001b[0m 191ms/step - loss: 0.0043\n",
            "Epoch 44: val_loss did not improve from 0.00435\n",
            "\u001b[1m18/18\u001b[0m \u001b[32m━━━━━━━━━━━━━━━━━━━━\u001b[0m\u001b[37m\u001b[0m \u001b[1m9s\u001b[0m 212ms/step - loss: 0.0043 - val_loss: 0.0044\n",
            "Epoch 45/50\n",
            "\u001b[1m18/18\u001b[0m \u001b[32m━━━━━━━━━━━━━━━━━━━━\u001b[0m\u001b[37m\u001b[0m \u001b[1m0s\u001b[0m 245ms/step - loss: 0.0043\n",
            "Epoch 45: val_loss did not improve from 0.00435\n",
            "\u001b[1m18/18\u001b[0m \u001b[32m━━━━━━━━━━━━━━━━━━━━\u001b[0m\u001b[37m\u001b[0m \u001b[1m5s\u001b[0m 274ms/step - loss: 0.0043 - val_loss: 0.0044\n",
            "Epoch 46/50\n",
            "\u001b[1m18/18\u001b[0m \u001b[32m━━━━━━━━━━━━━━━━━━━━\u001b[0m\u001b[37m\u001b[0m \u001b[1m0s\u001b[0m 236ms/step - loss: 0.0043\n",
            "Epoch 46: val_loss did not improve from 0.00435\n",
            "\u001b[1m18/18\u001b[0m \u001b[32m━━━━━━━━━━━━━━━━━━━━\u001b[0m\u001b[37m\u001b[0m \u001b[1m5s\u001b[0m 256ms/step - loss: 0.0043 - val_loss: 0.0044\n",
            "Epoch 47/50\n",
            "\u001b[1m18/18\u001b[0m \u001b[32m━━━━━━━━━━━━━━━━━━━━\u001b[0m\u001b[37m\u001b[0m \u001b[1m0s\u001b[0m 195ms/step - loss: 0.0044\n",
            "Epoch 47: val_loss did not improve from 0.00435\n",
            "\u001b[1m18/18\u001b[0m \u001b[32m━━━━━━━━━━━━━━━━━━━━\u001b[0m\u001b[37m\u001b[0m \u001b[1m4s\u001b[0m 212ms/step - loss: 0.0044 - val_loss: 0.0044\n",
            "Epoch 48/50\n",
            "\u001b[1m18/18\u001b[0m \u001b[32m━━━━━━━━━━━━━━━━━━━━\u001b[0m\u001b[37m\u001b[0m \u001b[1m0s\u001b[0m 193ms/step - loss: 0.0043\n",
            "Epoch 48: val_loss did not improve from 0.00435\n",
            "\u001b[1m18/18\u001b[0m \u001b[32m━━━━━━━━━━━━━━━━━━━━\u001b[0m\u001b[37m\u001b[0m \u001b[1m4s\u001b[0m 235ms/step - loss: 0.0043 - val_loss: 0.0044\n",
            "Epoch 49/50\n",
            "\u001b[1m18/18\u001b[0m \u001b[32m━━━━━━━━━━━━━━━━━━━━\u001b[0m\u001b[37m\u001b[0m \u001b[1m0s\u001b[0m 235ms/step - loss: 0.0043\n",
            "Epoch 49: val_loss did not improve from 0.00435\n",
            "\u001b[1m18/18\u001b[0m \u001b[32m━━━━━━━━━━━━━━━━━━━━\u001b[0m\u001b[37m\u001b[0m \u001b[1m6s\u001b[0m 253ms/step - loss: 0.0043 - val_loss: 0.0044\n",
            "Epoch 50/50\n",
            "\u001b[1m18/18\u001b[0m \u001b[32m━━━━━━━━━━━━━━━━━━━━\u001b[0m\u001b[37m\u001b[0m \u001b[1m0s\u001b[0m 194ms/step - loss: 0.0043\n",
            "Epoch 50: val_loss did not improve from 0.00435\n",
            "\u001b[1m18/18\u001b[0m \u001b[32m━━━━━━━━━━━━━━━━━━━━\u001b[0m\u001b[37m\u001b[0m \u001b[1m4s\u001b[0m 214ms/step - loss: 0.0043 - val_loss: 0.0044\n"
          ]
        },
        {
          "output_type": "stream",
          "name": "stderr",
          "text": [
            "WARNING:absl:You are saving your model as an HDF5 file via `model.save()` or `keras.saving.save_model(model)`. This file format is considered legacy. We recommend using instead the native Keras format, e.g. `model.save('my_model.keras')` or `keras.saving.save_model(model, 'my_model.keras')`. \n"
          ]
        },
        {
          "output_type": "stream",
          "name": "stdout",
          "text": [
            "    epoch      loss  val_loss\n",
            "45     45  0.004342  0.004351\n",
            "46     46  0.004342  0.004351\n",
            "47     47  0.004342  0.004351\n",
            "48     48  0.004342  0.004351\n",
            "49     49  0.004342  0.004351\n",
            "✅ Treinamento concluído. Modelo salvo em: /content/drive/MyDrive/Unb/Autoencoder_Checkpoints/autoencoder_final.h5\n"
          ]
        }
      ]
    },
    {
      "cell_type": "code",
      "source": [
        "# 🔹 Caminho do log salvo\n",
        "csv_logger_path = \"/content/drive/MyDrive/Unb/Autoencoder_Logs/training_log.csv\"\n",
        "\n",
        "# 🔹 Carregar log do treinamento\n",
        "df_logs = pd.read_csv(csv_logger_path)\n",
        "\n",
        "# 🔹 Exibir últimas 10 épocas formatadas\n",
        "df_resumo = df_logs[['epoch', 'loss', 'val_loss']].tail(10)\n",
        "df_resumo.columns = ['Época', 'Loss Treino', 'Loss Validação']\n",
        "\n",
        "# 🔹 Ajustar casas decimais\n",
        "pd.options.display.float_format = '{:.4f}'.format\n",
        "\n",
        "# 🔹 Exibir tabela formatada\n",
        "print(df_resumo)"
      ],
      "metadata": {
        "colab": {
          "base_uri": "https://localhost:8080/"
        },
        "id": "GbPY5IEvHm9o",
        "outputId": "1bc3982e-cb7f-48c1-ea2f-3777fd2735e0"
      },
      "execution_count": null,
      "outputs": [
        {
          "output_type": "stream",
          "name": "stdout",
          "text": [
            "    Época  Loss Treino  Loss Validação\n",
            "40     40       0.0043          0.0044\n",
            "41     41       0.0043          0.0044\n",
            "42     42       0.0043          0.0044\n",
            "43     43       0.0043          0.0044\n",
            "44     44       0.0043          0.0044\n",
            "45     45       0.0043          0.0044\n",
            "46     46       0.0043          0.0044\n",
            "47     47       0.0043          0.0044\n",
            "48     48       0.0043          0.0044\n",
            "49     49       0.0043          0.0044\n"
          ]
        }
      ]
    },
    {
      "cell_type": "code",
      "source": [
        "# Caminho da pasta com os patches\n",
        "pasta_patches = \"/content/drive/MyDrive/Unb/Plantio_direto/Patches_32x32\"\n",
        "\n",
        "# Lista de arquivos\n",
        "arquivos_tiff = [os.path.join(pasta_patches, f) for f in os.listdir(pasta_patches) if f.endswith(\".tif\") or f.endswith(\".tiff\")]\n",
        "\n",
        "# Seleciona um subconjunto pequeno para análise (por exemplo, 10 arquivos)\n",
        "amostra_patches = np.random.choice(arquivos_tiff, min(10, len(arquivos_tiff)), replace=False)\n",
        "\n",
        "# Criar dataframe para armazenar estatísticas\n",
        "estatisticas = []\n",
        "\n",
        "for tiff_path in amostra_patches:\n",
        "    with rasterio.open(tiff_path) as dataset:\n",
        "        num_bandas = dataset.count\n",
        "        for i in range(1, num_bandas + 1):\n",
        "            banda = dataset.read(i).astype(np.float32).flatten()\n",
        "            estatisticas.append({\n",
        "                \"Arquivo\": os.path.basename(tiff_path),\n",
        "                \"Banda\": i,\n",
        "                \"Mínimo\": np.min(banda),\n",
        "                \"Máximo\": np.max(banda),\n",
        "                \"Média\": np.mean(banda),\n",
        "                \"Desvio Padrão\": np.std(banda)\n",
        "            })\n",
        "\n",
        "# Criar DataFrame com os resultados\n",
        "df_estatisticas = pd.DataFrame(estatisticas)\n",
        "print(df_estatisticas)\n"
      ],
      "metadata": {
        "colab": {
          "base_uri": "https://localhost:8080/"
        },
        "id": "XM8jh_JxjPI-",
        "outputId": "004a69ef-0748-45fb-85a0-15edfda1c2cd"
      },
      "execution_count": null,
      "outputs": [
        {
          "output_type": "stream",
          "name": "stdout",
          "text": [
            "           Arquivo  Banda    Mínimo    Máximo     Média  Desvio Padrão\n",
            "0    patch_221.tif      1  0.118566  0.129346  0.124402       0.002352\n",
            "1    patch_221.tif      2  0.101213  0.113435  0.107760       0.002404\n",
            "2    patch_221.tif      3  0.096277  0.110978  0.103410       0.002844\n",
            "3    patch_221.tif      4  0.121103  0.161957  0.133440       0.006797\n",
            "4    patch_221.tif      5  0.216456  0.259050  0.234366       0.007746\n",
            "..             ...    ...       ...       ...       ...            ...\n",
            "155  patch_485.tif     12  0.143933  0.329623  0.192626       0.039964\n",
            "156  patch_485.tif     13  0.087473  0.236057  0.126215       0.030779\n",
            "157  patch_485.tif     14 -0.400389 -0.263387 -0.312824       0.026671\n",
            "158  patch_485.tif     15 -0.410041 -0.287266 -0.354499       0.024116\n",
            "159  patch_485.tif     16  0.063471  0.163519  0.089393       0.020453\n",
            "\n",
            "[160 rows x 6 columns]\n"
          ]
        }
      ]
    },
    {
      "cell_type": "code",
      "source": [
        "tiff_path = \"/content/drive/MyDrive/Unb/Plantio_direto/Patches_32x32/patch_485.tif\"\n",
        "\n",
        "with rasterio.open(tiff_path) as dataset:\n",
        "    num_bandas = dataset.count  # Número total de bandas\n",
        "\n",
        "    for i in range(1, num_bandas + 1):\n",
        "        banda = dataset.read(i).astype(np.float32)  # Ler cada banda\n",
        "        min_val, max_val = np.nanpercentile(banda, [1, 99])\n",
        "        banda_normalizada = np.clip((banda - min_val) / (max_val - min_val + 1e-6), 0, 1)\n",
        "\n",
        "        print(f\"Banda {i}: Min={banda_normalizada.min():.4f}, Max={banda_normalizada.max():.4f}\")\n"
      ],
      "metadata": {
        "colab": {
          "base_uri": "https://localhost:8080/"
        },
        "id": "bMfEtWZDlo9D",
        "outputId": "5dc8419b-4bb1-4fa2-f881-dfca64424605"
      },
      "execution_count": null,
      "outputs": [
        {
          "output_type": "stream",
          "name": "stdout",
          "text": [
            "Banda 1: Min=0.0000, Max=1.0000\n",
            "Banda 2: Min=0.0000, Max=1.0000\n",
            "Banda 3: Min=0.0000, Max=1.0000\n",
            "Banda 4: Min=0.0000, Max=1.0000\n",
            "Banda 5: Min=0.0000, Max=1.0000\n",
            "Banda 6: Min=0.0000, Max=1.0000\n",
            "Banda 7: Min=0.0000, Max=1.0000\n",
            "Banda 8: Min=0.0000, Max=1.0000\n",
            "Banda 9: Min=0.0000, Max=1.0000\n",
            "Banda 10: Min=0.0000, Max=1.0000\n",
            "Banda 11: Min=0.0000, Max=1.0000\n",
            "Banda 12: Min=0.0000, Max=1.0000\n",
            "Banda 13: Min=0.0000, Max=1.0000\n",
            "Banda 14: Min=0.0000, Max=1.0000\n",
            "Banda 15: Min=0.0000, Max=1.0000\n",
            "Banda 16: Min=0.0000, Max=1.0000\n"
          ]
        }
      ]
    },
    {
      "cell_type": "code",
      "source": [
        "import os\n",
        "import numpy as np\n",
        "import pandas as pd\n",
        "import rasterio\n",
        "import tensorflow as tf\n",
        "from tensorflow import keras\n",
        "from tensorflow.keras import layers\n",
        "from rasterio.enums import Resampling\n",
        "from sklearn.model_selection import train_test_split\n",
        "from tensorflow.keras.callbacks import ModelCheckpoint, CSVLogger\n",
        "\n",
        "# 📌 Configurar caminhos no Google Drive\n",
        "pasta_patches = \"/content/drive/MyDrive/Unb/Plantio_direto/Patches_32x32\"\n",
        "pasta_checkpoint = \"/content/drive/MyDrive/Unb/Autoencoder_Checkpoints_2\"\n",
        "pasta_logs = \"/content/drive/MyDrive/Unb/Autoencoder_Logs_2\"\n",
        "\n",
        "# Criar diretórios, se não existirem\n",
        "os.makedirs(pasta_checkpoint, exist_ok=True)\n",
        "os.makedirs(pasta_logs, exist_ok=True)\n",
        "\n",
        "# 🔹 Definir os hiperparâmetros\n",
        "IMG_SIZE = 32\n",
        "NUM_BANDS = 16  # 16 bandas espectrais\n",
        "LATENT_DIM = 128  # Dimensão do espaço latente\n",
        "BATCH_SIZE = 32\n",
        "EPOCHS = 50\n",
        "\n",
        "# 🔹 Listar arquivos TIFF na pasta\n",
        "arquivos_tiff = [os.path.join(pasta_patches, f) for f in os.listdir(pasta_patches) if f.endswith(\".tif\")]\n",
        "\n",
        "# 🔹 Função para carregar imagens TIFF como arrays normalizados\n",
        "def carregar_patches(arquivos_tiff):\n",
        "    imagens = []\n",
        "    for arquivo in arquivos_tiff:\n",
        "        with rasterio.open(arquivo) as dataset:\n",
        "            img = dataset.read(out_shape=(NUM_BANDS, IMG_SIZE, IMG_SIZE), resampling=Resampling.bilinear)\n",
        "            img = img.astype(np.float32)\n",
        "            img = np.transpose(img, (1, 2, 0))  # Converter para (32,32,16)\n",
        "            imagens.append(img)\n",
        "    return np.array(imagens)\n",
        "\n",
        "# 🔹 Carregar as imagens e dividir em treino/teste\n",
        "imagens = carregar_patches(arquivos_tiff)\n",
        "X_train, X_test = train_test_split(imagens, test_size=0.2, random_state=42)\n",
        "\n",
        "# 🔹 Criar o Autoencoder com Normalização e Camada Adicional\n",
        "def criar_autoencoder():\n",
        "    input_img = keras.Input(shape=(IMG_SIZE, IMG_SIZE, NUM_BANDS))\n",
        "\n",
        "    # 🔹 Normalização\n",
        "    x = layers.LayerNormalization()(input_img)  # Normaliza as bandas espectrais antes da convolução\n",
        "\n",
        "    # 🔹 Encoder (Ajustado)\n",
        "    x = layers.Conv2D(32, (3, 3), activation='relu', padding='same')(x)\n",
        "    x = layers.MaxPooling2D((2, 2), padding='same')(x)\n",
        "    x = layers.Conv2D(64, (3, 3), activation='relu', padding='same')(x)\n",
        "    x = layers.MaxPooling2D((2, 2), padding='same')(x)\n",
        "    x = layers.Conv2D(128, (3, 3), activation='relu', padding='same')(x)\n",
        "    x = layers.Conv2D(256, (3, 3), activation='relu', padding='same')(x)  # ⬅️ **Nova camada**\n",
        "    encoded = layers.Flatten()(x)\n",
        "    encoded = layers.Dense(LATENT_DIM, activation='relu')(encoded)\n",
        "\n",
        "    # 🔹 Decoder (Ajustado)\n",
        "    x = layers.Dense(8 * 8 * 256, activation='relu')(encoded)  # Correspondendo ao novo encoder\n",
        "    x = layers.Reshape((8, 8, 256))(x)\n",
        "    x = layers.Conv2DTranspose(128, (3, 3), activation='relu', padding='same')(x)\n",
        "    x = layers.UpSampling2D((2, 2))(x)\n",
        "    x = layers.Conv2DTranspose(64, (3, 3), activation='relu', padding='same')(x)\n",
        "    x = layers.UpSampling2D((2, 2))(x)\n",
        "    decoded = layers.Conv2D(NUM_BANDS, (3, 3), activation='sigmoid', padding='same')(x)\n",
        "\n",
        "    autoencoder = keras.Model(input_img, decoded)\n",
        "    autoencoder.compile(optimizer='adam', loss='mse')\n",
        "\n",
        "    return autoencoder\n",
        "\n",
        "# 🔹 Criar o modelo\n",
        "autoencoder = criar_autoencoder()\n",
        "\n",
        "# 🔹 Configurar callbacks para salvar checkpoints e logs\n",
        "checkpoint_path = os.path.join(pasta_checkpoint, \"autoencoder_best.h5\")\n",
        "csv_logger_path = os.path.join(pasta_logs, \"training_log.csv\")\n",
        "\n",
        "checkpoint = ModelCheckpoint(checkpoint_path, monitor='val_loss', save_best_only=True, verbose=1)\n",
        "csv_logger = CSVLogger(csv_logger_path, append=True)\n",
        "\n",
        "# 🔹 Treinar o Autoencoder\n",
        "history = autoencoder.fit(\n",
        "    X_train, X_train,\n",
        "    validation_data=(X_test, X_test),\n",
        "    epochs=EPOCHS,\n",
        "    batch_size=BATCH_SIZE,\n",
        "    callbacks=[checkpoint, csv_logger]\n",
        ")\n",
        "\n",
        "# 🔹 Salvar logs de treinamento em um DataFrame\n",
        "df_logs = pd.read_csv(csv_logger_path)\n",
        "print(df_logs.tail())  # Mostrar últimas entradas\n",
        "\n",
        "# 🔹 Salvar modelo final\n",
        "modelo_final_path = os.path.join(pasta_checkpoint, \"autoencoder_final.h5\")\n",
        "autoencoder.save(modelo_final_path)\n",
        "\n",
        "print(f\"✅ Treinamento concluído. Modelo salvo em: {modelo_final_path}\")\n"
      ],
      "metadata": {
        "colab": {
          "base_uri": "https://localhost:8080/"
        },
        "collapsed": true,
        "id": "Hc0fhjtfF8X1",
        "outputId": "0f8c423c-79c8-4e97-f395-dc6f1bc4e90f"
      },
      "execution_count": null,
      "outputs": [
        {
          "output_type": "stream",
          "name": "stdout",
          "text": [
            "Epoch 1/50\n",
            "\u001b[1m18/18\u001b[0m \u001b[32m━━━━━━━━━━━━━━━━━━━━\u001b[0m\u001b[37m\u001b[0m \u001b[1m0s\u001b[0m 568ms/step - loss: 11377.3535\n",
            "Epoch 1: val_loss improved from inf to 11365.26172, saving model to /content/drive/MyDrive/Unb/Autoencoder_Checkpoints_2/autoencoder_best.h5\n"
          ]
        },
        {
          "output_type": "stream",
          "name": "stderr",
          "text": [
            "WARNING:absl:You are saving your model as an HDF5 file via `model.save()` or `keras.saving.save_model(model)`. This file format is considered legacy. We recommend using instead the native Keras format, e.g. `model.save('my_model.keras')` or `keras.saving.save_model(model, 'my_model.keras')`. \n"
          ]
        },
        {
          "output_type": "stream",
          "name": "stdout",
          "text": [
            "\b\b\b\b\b\b\b\b\b\b\b\b\b\b\b\b\b\b\b\b\b\b\b\b\b\b\b\b\b\b\b\b\b\b\b\b\b\b\b\b\b\b\b\b\b\b\b\b\b\b\b\b\b\b\b\b\b\b\b\r\u001b[1m18/18\u001b[0m \u001b[32m━━━━━━━━━━━━━━━━━━━━\u001b[0m\u001b[37m\u001b[0m \u001b[1m18s\u001b[0m 696ms/step - loss: 11376.7949 - val_loss: 11365.2617\n",
            "Epoch 2/50\n",
            "\u001b[1m18/18\u001b[0m \u001b[32m━━━━━━━━━━━━━━━━━━━━\u001b[0m\u001b[37m\u001b[0m \u001b[1m0s\u001b[0m 630ms/step - loss: 11360.5898\n",
            "Epoch 2: val_loss did not improve from 11365.26172\n",
            "\u001b[1m18/18\u001b[0m \u001b[32m━━━━━━━━━━━━━━━━━━━━\u001b[0m\u001b[37m\u001b[0m \u001b[1m20s\u001b[0m 708ms/step - loss: 11360.6455 - val_loss: 11365.2617\n",
            "Epoch 3/50\n",
            "\u001b[1m18/18\u001b[0m \u001b[32m━━━━━━━━━━━━━━━━━━━━\u001b[0m\u001b[37m\u001b[0m \u001b[1m0s\u001b[0m 476ms/step - loss: 11368.7100\n",
            "Epoch 3: val_loss did not improve from 11365.26172\n",
            "\u001b[1m18/18\u001b[0m \u001b[32m━━━━━━━━━━━━━━━━━━━━\u001b[0m\u001b[37m\u001b[0m \u001b[1m17s\u001b[0m 515ms/step - loss: 11368.3389 - val_loss: 11365.2617\n",
            "Epoch 4/50\n",
            "\u001b[1m18/18\u001b[0m \u001b[32m━━━━━━━━━━━━━━━━━━━━\u001b[0m\u001b[37m\u001b[0m \u001b[1m0s\u001b[0m 610ms/step - loss: 11367.0576\n",
            "Epoch 4: val_loss did not improve from 11365.26172\n",
            "\u001b[1m18/18\u001b[0m \u001b[32m━━━━━━━━━━━━━━━━━━━━\u001b[0m\u001b[37m\u001b[0m \u001b[1m12s\u001b[0m 689ms/step - loss: 11366.7725 - val_loss: 11365.2617\n",
            "Epoch 5/50\n",
            "\u001b[1m18/18\u001b[0m \u001b[32m━━━━━━━━━━━━━━━━━━━━\u001b[0m\u001b[37m\u001b[0m \u001b[1m0s\u001b[0m 657ms/step - loss: 11362.5498\n",
            "Epoch 5: val_loss did not improve from 11365.26172\n",
            "\u001b[1m18/18\u001b[0m \u001b[32m━━━━━━━━━━━━━━━━━━━━\u001b[0m\u001b[37m\u001b[0m \u001b[1m12s\u001b[0m 697ms/step - loss: 11362.5029 - val_loss: 11365.2617\n",
            "Epoch 6/50\n",
            "\u001b[1m18/18\u001b[0m \u001b[32m━━━━━━━━━━━━━━━━━━━━\u001b[0m\u001b[37m\u001b[0m \u001b[1m0s\u001b[0m 462ms/step - loss: 11357.3496\n",
            "Epoch 6: val_loss did not improve from 11365.26172\n",
            "\u001b[1m18/18\u001b[0m \u001b[32m━━━━━━━━━━━━━━━━━━━━\u001b[0m\u001b[37m\u001b[0m \u001b[1m9s\u001b[0m 502ms/step - loss: 11357.5762 - val_loss: 11365.2617\n",
            "Epoch 7/50\n",
            "\u001b[1m18/18\u001b[0m \u001b[32m━━━━━━━━━━━━━━━━━━━━\u001b[0m\u001b[37m\u001b[0m \u001b[1m0s\u001b[0m 512ms/step - loss: 11360.3252\n",
            "Epoch 7: val_loss did not improve from 11365.26172\n",
            "\u001b[1m18/18\u001b[0m \u001b[32m━━━━━━━━━━━━━━━━━━━━\u001b[0m\u001b[37m\u001b[0m \u001b[1m12s\u001b[0m 589ms/step - loss: 11360.3955 - val_loss: 11365.2617\n",
            "Epoch 8/50\n",
            "\u001b[1m18/18\u001b[0m \u001b[32m━━━━━━━━━━━━━━━━━━━━\u001b[0m\u001b[37m\u001b[0m \u001b[1m0s\u001b[0m 590ms/step - loss: 11359.3232\n",
            "Epoch 8: val_loss did not improve from 11365.26172\n",
            "\u001b[1m18/18\u001b[0m \u001b[32m━━━━━━━━━━━━━━━━━━━━\u001b[0m\u001b[37m\u001b[0m \u001b[1m21s\u001b[0m 631ms/step - loss: 11359.4453 - val_loss: 11365.2617\n",
            "Epoch 9/50\n",
            "\u001b[1m18/18\u001b[0m \u001b[32m━━━━━━━━━━━━━━━━━━━━\u001b[0m\u001b[37m\u001b[0m \u001b[1m0s\u001b[0m 453ms/step - loss: 11364.8730\n",
            "Epoch 9: val_loss did not improve from 11365.26172\n",
            "\u001b[1m18/18\u001b[0m \u001b[32m━━━━━━━━━━━━━━━━━━━━\u001b[0m\u001b[37m\u001b[0m \u001b[1m9s\u001b[0m 493ms/step - loss: 11364.7041 - val_loss: 11365.2617\n",
            "Epoch 10/50\n",
            "\u001b[1m18/18\u001b[0m \u001b[32m━━━━━━━━━━━━━━━━━━━━\u001b[0m\u001b[37m\u001b[0m \u001b[1m0s\u001b[0m 522ms/step - loss: 11364.1162\n",
            "Epoch 10: val_loss did not improve from 11365.26172\n",
            "\u001b[1m18/18\u001b[0m \u001b[32m━━━━━━━━━━━━━━━━━━━━\u001b[0m\u001b[37m\u001b[0m \u001b[1m12s\u001b[0m 561ms/step - loss: 11363.9863 - val_loss: 11365.2617\n",
            "Epoch 11/50\n",
            "\u001b[1m18/18\u001b[0m \u001b[32m━━━━━━━━━━━━━━━━━━━━\u001b[0m\u001b[37m\u001b[0m \u001b[1m0s\u001b[0m 572ms/step - loss: 11365.9268\n",
            "Epoch 11: val_loss did not improve from 11365.26172\n",
            "\u001b[1m18/18\u001b[0m \u001b[32m━━━━━━━━━━━━━━━━━━━━\u001b[0m\u001b[37m\u001b[0m \u001b[1m12s\u001b[0m 650ms/step - loss: 11365.7012 - val_loss: 11365.2617\n",
            "Epoch 12/50\n",
            "\u001b[1m18/18\u001b[0m \u001b[32m━━━━━━━━━━━━━━━━━━━━\u001b[0m\u001b[37m\u001b[0m \u001b[1m0s\u001b[0m 467ms/step - loss: 11364.5029\n",
            "Epoch 12: val_loss did not improve from 11365.26172\n",
            "\u001b[1m18/18\u001b[0m \u001b[32m━━━━━━━━━━━━━━━━━━━━\u001b[0m\u001b[37m\u001b[0m \u001b[1m19s\u001b[0m 544ms/step - loss: 11364.3525 - val_loss: 11365.2617\n",
            "Epoch 13/50\n",
            "\u001b[1m18/18\u001b[0m \u001b[32m━━━━━━━━━━━━━━━━━━━━\u001b[0m\u001b[37m\u001b[0m \u001b[1m0s\u001b[0m 598ms/step - loss: 11365.9590\n",
            "Epoch 13: val_loss did not improve from 11365.26172\n",
            "\u001b[1m18/18\u001b[0m \u001b[32m━━━━━━━━━━━━━━━━━━━━\u001b[0m\u001b[37m\u001b[0m \u001b[1m12s\u001b[0m 675ms/step - loss: 11365.7324 - val_loss: 11365.2617\n",
            "Epoch 14/50\n",
            "\u001b[1m18/18\u001b[0m \u001b[32m━━━━━━━━━━━━━━━━━━━━\u001b[0m\u001b[37m\u001b[0m \u001b[1m0s\u001b[0m 456ms/step - loss: 11363.3906\n",
            "Epoch 14: val_loss did not improve from 11365.26172\n",
            "\u001b[1m18/18\u001b[0m \u001b[32m━━━━━━━━━━━━━━━━━━━━\u001b[0m\u001b[37m\u001b[0m \u001b[1m18s\u001b[0m 533ms/step - loss: 11363.2988 - val_loss: 11365.2617\n",
            "Epoch 15/50\n",
            "\u001b[1m18/18\u001b[0m \u001b[32m━━━━━━━━━━━━━━━━━━━━\u001b[0m\u001b[37m\u001b[0m \u001b[1m0s\u001b[0m 495ms/step - loss: 11370.1094\n",
            "Epoch 15: val_loss did not improve from 11365.26172\n",
            "\u001b[1m18/18\u001b[0m \u001b[32m━━━━━━━━━━━━━━━━━━━━\u001b[0m\u001b[37m\u001b[0m \u001b[1m11s\u001b[0m 573ms/step - loss: 11369.6641 - val_loss: 11365.2617\n",
            "Epoch 16/50\n",
            "\u001b[1m18/18\u001b[0m \u001b[32m━━━━━━━━━━━━━━━━━━━━\u001b[0m\u001b[37m\u001b[0m \u001b[1m0s\u001b[0m 827ms/step - loss: 11358.5840\n",
            "Epoch 16: val_loss did not improve from 11365.26172\n",
            "\u001b[1m18/18\u001b[0m \u001b[32m━━━━━━━━━━━━━━━━━━━━\u001b[0m\u001b[37m\u001b[0m \u001b[1m17s\u001b[0m 982ms/step - loss: 11358.7451 - val_loss: 11365.2617\n",
            "Epoch 17/50\n",
            "\u001b[1m18/18\u001b[0m \u001b[32m━━━━━━━━━━━━━━━━━━━━\u001b[0m\u001b[37m\u001b[0m \u001b[1m0s\u001b[0m 596ms/step - loss: 11355.8691\n",
            "Epoch 17: val_loss did not improve from 11365.26172\n",
            "\u001b[1m18/18\u001b[0m \u001b[32m━━━━━━━━━━━━━━━━━━━━\u001b[0m\u001b[37m\u001b[0m \u001b[1m12s\u001b[0m 636ms/step - loss: 11356.1738 - val_loss: 11365.2617\n",
            "Epoch 18/50\n",
            "\u001b[1m18/18\u001b[0m \u001b[32m━━━━━━━━━━━━━━━━━━━━\u001b[0m\u001b[37m\u001b[0m \u001b[1m0s\u001b[0m 478ms/step - loss: 11360.7842\n",
            "Epoch 18: val_loss did not improve from 11365.26172\n",
            "\u001b[1m18/18\u001b[0m \u001b[32m━━━━━━━━━━━━━━━━━━━━\u001b[0m\u001b[37m\u001b[0m \u001b[1m19s\u001b[0m 558ms/step - loss: 11360.8301 - val_loss: 11365.2617\n",
            "Epoch 19/50\n",
            "\u001b[1m18/18\u001b[0m \u001b[32m━━━━━━━━━━━━━━━━━━━━\u001b[0m\u001b[37m\u001b[0m \u001b[1m0s\u001b[0m 500ms/step - loss: 11352.7676\n",
            "Epoch 19: val_loss did not improve from 11365.26172\n",
            "\u001b[1m18/18\u001b[0m \u001b[32m━━━━━━━━━━━━━━━━━━━━\u001b[0m\u001b[37m\u001b[0m \u001b[1m10s\u001b[0m 540ms/step - loss: 11353.2354 - val_loss: 11365.2617\n",
            "Epoch 20/50\n",
            "\u001b[1m18/18\u001b[0m \u001b[32m━━━━━━━━━━━━━━━━━━━━\u001b[0m\u001b[37m\u001b[0m \u001b[1m0s\u001b[0m 665ms/step - loss: 11363.3340\n",
            "Epoch 20: val_loss did not improve from 11365.26172\n",
            "\u001b[1m18/18\u001b[0m \u001b[32m━━━━━━━━━━━━━━━━━━━━\u001b[0m\u001b[37m\u001b[0m \u001b[1m13s\u001b[0m 742ms/step - loss: 11363.2451 - val_loss: 11365.2617\n",
            "Epoch 21/50\n",
            "\u001b[1m18/18\u001b[0m \u001b[32m━━━━━━━━━━━━━━━━━━━━\u001b[0m\u001b[37m\u001b[0m \u001b[1m0s\u001b[0m 517ms/step - loss: 11362.8203\n",
            "Epoch 21: val_loss did not improve from 11365.26172\n",
            "\u001b[1m18/18\u001b[0m \u001b[32m━━━━━━━━━━━━━━━━━━━━\u001b[0m\u001b[37m\u001b[0m \u001b[1m18s\u001b[0m 557ms/step - loss: 11362.7588 - val_loss: 11365.2617\n",
            "Epoch 22/50\n",
            "\u001b[1m18/18\u001b[0m \u001b[32m━━━━━━━━━━━━━━━━━━━━\u001b[0m\u001b[37m\u001b[0m \u001b[1m0s\u001b[0m 641ms/step - loss: 11363.9531\n",
            "Epoch 22: val_loss did not improve from 11365.26172\n",
            "\u001b[1m18/18\u001b[0m \u001b[32m━━━━━━━━━━━━━━━━━━━━\u001b[0m\u001b[37m\u001b[0m \u001b[1m12s\u001b[0m 682ms/step - loss: 11363.8320 - val_loss: 11365.2617\n",
            "Epoch 23/50\n",
            "\u001b[1m18/18\u001b[0m \u001b[32m━━━━━━━━━━━━━━━━━━━━\u001b[0m\u001b[37m\u001b[0m \u001b[1m0s\u001b[0m 503ms/step - loss: 11358.0273\n",
            "Epoch 23: val_loss did not improve from 11365.26172\n",
            "\u001b[1m18/18\u001b[0m \u001b[32m━━━━━━━━━━━━━━━━━━━━\u001b[0m\u001b[37m\u001b[0m \u001b[1m19s\u001b[0m 582ms/step - loss: 11358.2188 - val_loss: 11365.2617\n",
            "Epoch 24/50\n",
            "\u001b[1m18/18\u001b[0m \u001b[32m━━━━━━━━━━━━━━━━━━━━\u001b[0m\u001b[37m\u001b[0m \u001b[1m0s\u001b[0m 791ms/step - loss: 11361.8447\n",
            "Epoch 24: val_loss did not improve from 11365.26172\n",
            "\u001b[1m18/18\u001b[0m \u001b[32m━━━━━━━━━━━━━━━━━━━━\u001b[0m\u001b[37m\u001b[0m \u001b[1m25s\u001b[0m 871ms/step - loss: 11361.8350 - val_loss: 11365.2617\n",
            "Epoch 25/50\n",
            "\u001b[1m18/18\u001b[0m \u001b[32m━━━━━━━━━━━━━━━━━━━━\u001b[0m\u001b[37m\u001b[0m \u001b[1m0s\u001b[0m 703ms/step - loss: 11363.8643\n",
            "Epoch 25: val_loss did not improve from 11365.26172\n",
            "\u001b[1m18/18\u001b[0m \u001b[32m━━━━━━━━━━━━━━━━━━━━\u001b[0m\u001b[37m\u001b[0m \u001b[1m21s\u001b[0m 873ms/step - loss: 11363.7480 - val_loss: 11365.2617\n",
            "Epoch 26/50\n",
            "\u001b[1m18/18\u001b[0m \u001b[32m━━━━━━━━━━━━━━━━━━━━\u001b[0m\u001b[37m\u001b[0m \u001b[1m0s\u001b[0m 592ms/step - loss: 11359.6914\n",
            "Epoch 26: val_loss did not improve from 11365.26172\n",
            "\u001b[1m18/18\u001b[0m \u001b[32m━━━━━━━━━━━━━━━━━━━━\u001b[0m\u001b[37m\u001b[0m \u001b[1m17s\u001b[0m 672ms/step - loss: 11359.7949 - val_loss: 11365.2617\n",
            "Epoch 27/50\n",
            "\u001b[1m18/18\u001b[0m \u001b[32m━━━━━━━━━━━━━━━━━━━━\u001b[0m\u001b[37m\u001b[0m \u001b[1m0s\u001b[0m 575ms/step - loss: 11365.9805\n",
            "Epoch 27: val_loss did not improve from 11365.26172\n",
            "\u001b[1m18/18\u001b[0m \u001b[32m━━━━━━━━━━━━━━━━━━━━\u001b[0m\u001b[37m\u001b[0m \u001b[1m19s\u001b[0m 614ms/step - loss: 11365.7529 - val_loss: 11365.2617\n",
            "Epoch 28/50\n",
            "\u001b[1m18/18\u001b[0m \u001b[32m━━━━━━━━━━━━━━━━━━━━\u001b[0m\u001b[37m\u001b[0m \u001b[1m0s\u001b[0m 523ms/step - loss: 11358.4209\n",
            "Epoch 28: val_loss did not improve from 11365.26172\n",
            "\u001b[1m18/18\u001b[0m \u001b[32m━━━━━━━━━━━━━━━━━━━━\u001b[0m\u001b[37m\u001b[0m \u001b[1m20s\u001b[0m 605ms/step - loss: 11358.5908 - val_loss: 11365.2617\n",
            "Epoch 29/50\n",
            "\u001b[1m18/18\u001b[0m \u001b[32m━━━━━━━━━━━━━━━━━━━━\u001b[0m\u001b[37m\u001b[0m \u001b[1m0s\u001b[0m 606ms/step - loss: 11356.1826\n",
            "Epoch 29: val_loss did not improve from 11365.26172\n",
            "\u001b[1m18/18\u001b[0m \u001b[32m━━━━━━━━━━━━━━━━━━━━\u001b[0m\u001b[37m\u001b[0m \u001b[1m22s\u001b[0m 684ms/step - loss: 11356.4707 - val_loss: 11365.2617\n",
            "Epoch 30/50\n",
            "\u001b[1m18/18\u001b[0m \u001b[32m━━━━━━━━━━━━━━━━━━━━\u001b[0m\u001b[37m\u001b[0m \u001b[1m0s\u001b[0m 471ms/step - loss: 11360.9805\n",
            "Epoch 30: val_loss did not improve from 11365.26172\n",
            "\u001b[1m18/18\u001b[0m \u001b[32m━━━━━━━━━━━━━━━━━━━━\u001b[0m\u001b[37m\u001b[0m \u001b[1m18s\u001b[0m 549ms/step - loss: 11361.0156 - val_loss: 11365.2617\n",
            "Epoch 31/50\n",
            "\u001b[1m18/18\u001b[0m \u001b[32m━━━━━━━━━━━━━━━━━━━━\u001b[0m\u001b[37m\u001b[0m \u001b[1m0s\u001b[0m 585ms/step - loss: 11356.6055\n",
            "Epoch 31: val_loss did not improve from 11365.26172\n",
            "\u001b[1m18/18\u001b[0m \u001b[32m━━━━━━━━━━━━━━━━━━━━\u001b[0m\u001b[37m\u001b[0m \u001b[1m12s\u001b[0m 663ms/step - loss: 11356.8711 - val_loss: 11365.2617\n",
            "Epoch 32/50\n",
            "\u001b[1m18/18\u001b[0m \u001b[32m━━━━━━━━━━━━━━━━━━━━\u001b[0m\u001b[37m\u001b[0m \u001b[1m0s\u001b[0m 515ms/step - loss: 11362.5732\n",
            "Epoch 32: val_loss did not improve from 11365.26172\n",
            "\u001b[1m18/18\u001b[0m \u001b[32m━━━━━━━━━━━━━━━━━━━━\u001b[0m\u001b[37m\u001b[0m \u001b[1m19s\u001b[0m 593ms/step - loss: 11362.5244 - val_loss: 11365.2617\n",
            "Epoch 33/50\n",
            "\u001b[1m18/18\u001b[0m \u001b[32m━━━━━━━━━━━━━━━━━━━━\u001b[0m\u001b[37m\u001b[0m \u001b[1m0s\u001b[0m 625ms/step - loss: 11363.1982\n",
            "Epoch 33: val_loss did not improve from 11365.26172\n",
            "\u001b[1m18/18\u001b[0m \u001b[32m━━━━━━━━━━━━━━━━━━━━\u001b[0m\u001b[37m\u001b[0m \u001b[1m22s\u001b[0m 667ms/step - loss: 11363.1172 - val_loss: 11365.2617\n",
            "Epoch 34/50\n",
            "\u001b[1m18/18\u001b[0m \u001b[32m━━━━━━━━━━━━━━━━━━━━\u001b[0m\u001b[37m\u001b[0m \u001b[1m0s\u001b[0m 477ms/step - loss: 11361.5879\n",
            "Epoch 34: val_loss did not improve from 11365.26172\n",
            "\u001b[1m18/18\u001b[0m \u001b[32m━━━━━━━━━━━━━━━━━━━━\u001b[0m\u001b[37m\u001b[0m \u001b[1m18s\u001b[0m 555ms/step - loss: 11361.5908 - val_loss: 11365.2617\n",
            "Epoch 35/50\n",
            "\u001b[1m18/18\u001b[0m \u001b[32m━━━━━━━━━━━━━━━━━━━━\u001b[0m\u001b[37m\u001b[0m \u001b[1m0s\u001b[0m 505ms/step - loss: 11363.7129\n",
            "Epoch 35: val_loss did not improve from 11365.26172\n",
            "\u001b[1m18/18\u001b[0m \u001b[32m━━━━━━━━━━━━━━━━━━━━\u001b[0m\u001b[37m\u001b[0m \u001b[1m11s\u001b[0m 582ms/step - loss: 11363.6045 - val_loss: 11365.2617\n",
            "Epoch 36/50\n",
            "\u001b[1m18/18\u001b[0m \u001b[32m━━━━━━━━━━━━━━━━━━━━\u001b[0m\u001b[37m\u001b[0m \u001b[1m0s\u001b[0m 610ms/step - loss: 11358.5146\n",
            "Epoch 36: val_loss did not improve from 11365.26172\n",
            "\u001b[1m18/18\u001b[0m \u001b[32m━━━━━━━━━━━━━━━━━━━━\u001b[0m\u001b[37m\u001b[0m \u001b[1m22s\u001b[0m 689ms/step - loss: 11358.6797 - val_loss: 11365.2617\n",
            "Epoch 37/50\n",
            "\u001b[1m18/18\u001b[0m \u001b[32m━━━━━━━━━━━━━━━━━━━━\u001b[0m\u001b[37m\u001b[0m \u001b[1m0s\u001b[0m 456ms/step - loss: 11364.2520\n",
            "Epoch 37: val_loss did not improve from 11365.26172\n",
            "\u001b[1m18/18\u001b[0m \u001b[32m━━━━━━━━━━━━━━━━━━━━\u001b[0m\u001b[37m\u001b[0m \u001b[1m10s\u001b[0m 534ms/step - loss: 11364.1152 - val_loss: 11365.2617\n",
            "Epoch 38/50\n",
            "\u001b[1m18/18\u001b[0m \u001b[32m━━━━━━━━━━━━━━━━━━━━\u001b[0m\u001b[37m\u001b[0m \u001b[1m0s\u001b[0m 497ms/step - loss: 11364.5078\n",
            "Epoch 38: val_loss did not improve from 11365.26172\n",
            "\u001b[1m18/18\u001b[0m \u001b[32m━━━━━━━━━━━━━━━━━━━━\u001b[0m\u001b[37m\u001b[0m \u001b[1m11s\u001b[0m 538ms/step - loss: 11364.3574 - val_loss: 11365.2617\n",
            "Epoch 39/50\n",
            "\u001b[1m18/18\u001b[0m \u001b[32m━━━━━━━━━━━━━━━━━━━━\u001b[0m\u001b[37m\u001b[0m \u001b[1m0s\u001b[0m 586ms/step - loss: 11359.4863\n",
            "Epoch 39: val_loss did not improve from 11365.26172\n",
            "\u001b[1m18/18\u001b[0m \u001b[32m━━━━━━━━━━━━━━━━━━━━\u001b[0m\u001b[37m\u001b[0m \u001b[1m11s\u001b[0m 628ms/step - loss: 11359.5996 - val_loss: 11365.2617\n",
            "Epoch 40/50\n",
            "\u001b[1m18/18\u001b[0m \u001b[32m━━━━━━━━━━━━━━━━━━━━\u001b[0m\u001b[37m\u001b[0m \u001b[1m0s\u001b[0m 541ms/step - loss: 11366.4355\n",
            "Epoch 40: val_loss did not improve from 11365.26172\n",
            "\u001b[1m18/18\u001b[0m \u001b[32m━━━━━━━━━━━━━━━━━━━━\u001b[0m\u001b[37m\u001b[0m \u001b[1m11s\u001b[0m 620ms/step - loss: 11366.1846 - val_loss: 11365.2617\n",
            "Epoch 41/50\n",
            "\u001b[1m18/18\u001b[0m \u001b[32m━━━━━━━━━━━━━━━━━━━━\u001b[0m\u001b[37m\u001b[0m \u001b[1m0s\u001b[0m 485ms/step - loss: 11362.1387\n",
            "Epoch 41: val_loss did not improve from 11365.26172\n",
            "\u001b[1m18/18\u001b[0m \u001b[32m━━━━━━━━━━━━━━━━━━━━\u001b[0m\u001b[37m\u001b[0m \u001b[1m10s\u001b[0m 563ms/step - loss: 11362.1133 - val_loss: 11365.2617\n",
            "Epoch 42/50\n",
            "\u001b[1m18/18\u001b[0m \u001b[32m━━━━━━━━━━━━━━━━━━━━\u001b[0m\u001b[37m\u001b[0m \u001b[1m0s\u001b[0m 595ms/step - loss: 11367.3105\n",
            "Epoch 42: val_loss did not improve from 11365.26172\n",
            "\u001b[1m18/18\u001b[0m \u001b[32m━━━━━━━━━━━━━━━━━━━━\u001b[0m\u001b[37m\u001b[0m \u001b[1m12s\u001b[0m 673ms/step - loss: 11367.0127 - val_loss: 11365.2617\n",
            "Epoch 43/50\n",
            "\u001b[1m18/18\u001b[0m \u001b[32m━━━━━━━━━━━━━━━━━━━━\u001b[0m\u001b[37m\u001b[0m \u001b[1m0s\u001b[0m 515ms/step - loss: 11362.6338\n",
            "Epoch 43: val_loss did not improve from 11365.26172\n",
            "\u001b[1m18/18\u001b[0m \u001b[32m━━━━━━━━━━━━━━━━━━━━\u001b[0m\u001b[37m\u001b[0m \u001b[1m19s\u001b[0m 595ms/step - loss: 11362.5820 - val_loss: 11365.2617\n",
            "Epoch 44/50\n",
            "\u001b[1m18/18\u001b[0m \u001b[32m━━━━━━━━━━━━━━━━━━━━\u001b[0m\u001b[37m\u001b[0m \u001b[1m0s\u001b[0m 506ms/step - loss: 11364.0127\n",
            "Epoch 44: val_loss did not improve from 11365.26172\n",
            "\u001b[1m18/18\u001b[0m \u001b[32m━━━━━━━━━━━━━━━━━━━━\u001b[0m\u001b[37m\u001b[0m \u001b[1m10s\u001b[0m 547ms/step - loss: 11363.8877 - val_loss: 11365.2617\n",
            "Epoch 45/50\n",
            "\u001b[1m18/18\u001b[0m \u001b[32m━━━━━━━━━━━━━━━━━━━━\u001b[0m\u001b[37m\u001b[0m \u001b[1m0s\u001b[0m 588ms/step - loss: 11366.7148\n",
            "Epoch 45: val_loss did not improve from 11365.26172\n",
            "\u001b[1m18/18\u001b[0m \u001b[32m━━━━━━━━━━━━━━━━━━━━\u001b[0m\u001b[37m\u001b[0m \u001b[1m12s\u001b[0m 665ms/step - loss: 11366.4482 - val_loss: 11365.2617\n",
            "Epoch 46/50\n",
            "\u001b[1m18/18\u001b[0m \u001b[32m━━━━━━━━━━━━━━━━━━━━\u001b[0m\u001b[37m\u001b[0m \u001b[1m0s\u001b[0m 487ms/step - loss: 11359.9170\n",
            "Epoch 46: val_loss did not improve from 11365.26172\n",
            "\u001b[1m18/18\u001b[0m \u001b[32m━━━━━━━━━━━━━━━━━━━━\u001b[0m\u001b[37m\u001b[0m \u001b[1m19s\u001b[0m 565ms/step - loss: 11360.0088 - val_loss: 11365.2617\n",
            "Epoch 47/50\n",
            "\u001b[1m18/18\u001b[0m \u001b[32m━━━━━━━━━━━━━━━━━━━━\u001b[0m\u001b[37m\u001b[0m \u001b[1m0s\u001b[0m 580ms/step - loss: 11361.7363\n",
            "Epoch 47: val_loss did not improve from 11365.26172\n",
            "\u001b[1m18/18\u001b[0m \u001b[32m━━━━━━━━━━━━━━━━━━━━\u001b[0m\u001b[37m\u001b[0m \u001b[1m12s\u001b[0m 657ms/step - loss: 11361.7324 - val_loss: 11365.2617\n",
            "Epoch 48/50\n",
            "\u001b[1m18/18\u001b[0m \u001b[32m━━━━━━━━━━━━━━━━━━━━\u001b[0m\u001b[37m\u001b[0m \u001b[1m0s\u001b[0m 622ms/step - loss: 11361.6562\n",
            "Epoch 48: val_loss did not improve from 11365.26172\n",
            "\u001b[1m18/18\u001b[0m \u001b[32m━━━━━━━━━━━━━━━━━━━━\u001b[0m\u001b[37m\u001b[0m \u001b[1m12s\u001b[0m 699ms/step - loss: 11361.6562 - val_loss: 11365.2617\n",
            "Epoch 49/50\n",
            "\u001b[1m18/18\u001b[0m \u001b[32m━━━━━━━━━━━━━━━━━━━━\u001b[0m\u001b[37m\u001b[0m \u001b[1m0s\u001b[0m 537ms/step - loss: 11365.9453\n",
            "Epoch 49: val_loss did not improve from 11365.26172\n",
            "\u001b[1m18/18\u001b[0m \u001b[32m━━━━━━━━━━━━━━━━━━━━\u001b[0m\u001b[37m\u001b[0m \u001b[1m19s\u001b[0m 615ms/step - loss: 11365.7188 - val_loss: 11365.2617\n",
            "Epoch 50/50\n",
            "\u001b[1m18/18\u001b[0m \u001b[32m━━━━━━━━━━━━━━━━━━━━\u001b[0m\u001b[37m\u001b[0m \u001b[1m0s\u001b[0m 606ms/step - loss: 11360.2695\n",
            "Epoch 50: val_loss did not improve from 11365.26172\n",
            "\u001b[1m18/18\u001b[0m \u001b[32m━━━━━━━━━━━━━━━━━━━━\u001b[0m\u001b[37m\u001b[0m \u001b[1m21s\u001b[0m 686ms/step - loss: 11360.3418 - val_loss: 11365.2617\n"
          ]
        },
        {
          "output_type": "stream",
          "name": "stderr",
          "text": [
            "WARNING:absl:You are saving your model as an HDF5 file via `model.save()` or `keras.saving.save_model(model)`. This file format is considered legacy. We recommend using instead the native Keras format, e.g. `model.save('my_model.keras')` or `keras.saving.save_model(model, 'my_model.keras')`. \n"
          ]
        },
        {
          "output_type": "stream",
          "name": "stdout",
          "text": [
            "    epoch          loss      val_loss\n",
            "45     45  11361.653320  11365.261719\n",
            "46     46  11361.653320  11365.261719\n",
            "47     47  11361.653320  11365.261719\n",
            "48     48  11361.652344  11365.261719\n",
            "49     49  11361.653320  11365.261719\n",
            "✅ Treinamento concluído. Modelo salvo em: /content/drive/MyDrive/Unb/Autoencoder_Checkpoints_2/autoencoder_final.h5\n"
          ]
        }
      ]
    },
    {
      "cell_type": "code",
      "source": [
        "# 🔹 Caminho do log salvo\n",
        "csv_logger_path = \"/content/drive/MyDrive/Unb/Autoencoder_Logs_2/training_log.csv\"\n",
        "\n",
        "# 🔹 Carregar log do treinamento\n",
        "df_logs = pd.read_csv(csv_logger_path)\n",
        "\n",
        "# 🔹 Exibir últimas 10 épocas formatadas\n",
        "df_resumo = df_logs[['epoch', 'loss', 'val_loss']].tail(10)\n",
        "df_resumo.columns = ['Época', 'Loss Treino', 'Loss Validação']\n",
        "\n",
        "# 🔹 Ajustar casas decimais\n",
        "pd.options.display.float_format = '{:.4f}'.format\n",
        "\n",
        "# 🔹 Exibir tabela formatada\n",
        "print(df_resumo)"
      ],
      "metadata": {
        "colab": {
          "base_uri": "https://localhost:8080/"
        },
        "id": "dhctlNPWHsmR",
        "outputId": "8f402f8c-4fcb-4768-b01a-fd23663b5b8a"
      },
      "execution_count": null,
      "outputs": [
        {
          "output_type": "stream",
          "name": "stdout",
          "text": [
            "    Época  Loss Treino  Loss Validação\n",
            "40     40   11361.6533      11365.2617\n",
            "41     41   11361.6523      11365.2617\n",
            "42     42   11361.6533      11365.2617\n",
            "43     43   11361.6523      11365.2617\n",
            "44     44   11361.6543      11365.2617\n",
            "45     45   11361.6533      11365.2617\n",
            "46     46   11361.6533      11365.2617\n",
            "47     47   11361.6533      11365.2617\n",
            "48     48   11361.6523      11365.2617\n",
            "49     49   11361.6533      11365.2617\n"
          ]
        }
      ]
    },
    {
      "cell_type": "code",
      "source": [
        "import os\n",
        "import numpy as np\n",
        "import pandas as pd\n",
        "import rasterio\n",
        "import tensorflow as tf\n",
        "from tensorflow import keras\n",
        "from tensorflow.keras import layers\n",
        "from rasterio.enums import Resampling\n",
        "from sklearn.model_selection import train_test_split\n",
        "from sklearn.preprocessing import MinMaxScaler\n",
        "from tensorflow.keras.callbacks import ModelCheckpoint, CSVLogger, ReduceLROnPlateau\n",
        "\n",
        "# 📌 Caminhos no Google Drive\n",
        "pasta_patches = \"/content/drive/MyDrive/Unb/Plantio_direto/Patches_32x32\"\n",
        "pasta_checkpoint = \"/content/drive/MyDrive/Unb/Autoencoder_Checkpoints_3\"\n",
        "pasta_logs = \"/content/drive/MyDrive/Unb/Autoencoder_Logs_3\"\n",
        "\n",
        "# Criar diretórios, se não existirem\n",
        "os.makedirs(pasta_checkpoint, exist_ok=True)\n",
        "os.makedirs(pasta_logs, exist_ok=True)\n",
        "\n",
        "# 🔹 Hiperparâmetros\n",
        "IMG_SIZE = 32\n",
        "NUM_BANDS = 16\n",
        "LATENT_DIM = 128\n",
        "BATCH_SIZE = 32\n",
        "EPOCHS = 50\n",
        "\n",
        "# 🔹 Normalizador global para os patches\n",
        "scaler = MinMaxScaler()\n",
        "\n",
        "# 🔹 Função para carregar e normalizar imagens TIFF\n",
        "def carregar_patches(arquivos_tiff):\n",
        "    imagens = []\n",
        "    for arquivo in arquivos_tiff:\n",
        "        with rasterio.open(arquivo) as dataset:\n",
        "            img = dataset.read(out_shape=(NUM_BANDS, IMG_SIZE, IMG_SIZE), resampling=Resampling.bilinear)\n",
        "            img = img.astype(np.float32)\n",
        "            img = np.transpose(img, (1, 2, 0))  # (32,32,16)\n",
        "\n",
        "            # 🔹 Normalizar valores (MinMaxScaler)\n",
        "            img = img.reshape(-1, NUM_BANDS)\n",
        "            img = scaler.fit_transform(img)  # Normalizar entre 0 e 1\n",
        "            img = img.reshape(IMG_SIZE, IMG_SIZE, NUM_BANDS)\n",
        "\n",
        "            imagens.append(img)\n",
        "\n",
        "    return np.array(imagens)\n",
        "\n",
        "# 🔹 Carregar imagens e dividir em treino/teste\n",
        "arquivos_tiff = [os.path.join(pasta_patches, f) for f in os.listdir(pasta_patches) if f.endswith(\".tif\")]\n",
        "imagens = carregar_patches(arquivos_tiff)\n",
        "X_train, X_test = train_test_split(imagens, test_size=0.2, random_state=42)\n",
        "\n",
        "# 🔹 Criar o Autoencoder ajustado\n",
        "def criar_autoencoder():\n",
        "    input_img = keras.Input(shape=(IMG_SIZE, IMG_SIZE, NUM_BANDS))\n",
        "\n",
        "    # 🔹 Encoder (com BatchNormalization e Dropout)\n",
        "    x = layers.Conv2D(32, (3, 3), activation='relu', padding='same')(input_img)\n",
        "    x = layers.BatchNormalization()(x)\n",
        "    x = layers.MaxPooling2D((2, 2), padding='same')(x)\n",
        "\n",
        "    x = layers.Conv2D(64, (3, 3), activation='relu', padding='same')(x)\n",
        "    x = layers.BatchNormalization()(x)\n",
        "    x = layers.MaxPooling2D((2, 2), padding='same')(x)\n",
        "\n",
        "    x = layers.Conv2D(128, (3, 3), activation='relu', padding='same')(x)\n",
        "    x = layers.BatchNormalization()(x)\n",
        "    x = layers.Dropout(0.2)(x)  # 🔹 Dropout para regularização\n",
        "\n",
        "    encoded = layers.Flatten()(x)\n",
        "    encoded = layers.Dense(LATENT_DIM, activation='relu')(encoded)\n",
        "\n",
        "    # 🔹 Decoder\n",
        "    x = layers.Dense(8 * 8 * 128, activation='relu')(encoded)\n",
        "    x = layers.Reshape((8, 8, 128))(x)\n",
        "\n",
        "    x = layers.Conv2DTranspose(64, (3, 3), activation='relu', padding='same')(x)\n",
        "    x = layers.UpSampling2D((2, 2))(x)\n",
        "\n",
        "    x = layers.Conv2DTranspose(32, (3, 3), activation='relu', padding='same')(x)\n",
        "    x = layers.UpSampling2D((2, 2))(x)\n",
        "\n",
        "    decoded = layers.Conv2D(NUM_BANDS, (3, 3), activation='linear', padding='same')(x)  # 🔹 Saída com ativação 'linear'\n",
        "\n",
        "    autoencoder = keras.Model(input_img, decoded)\n",
        "    autoencoder.compile(optimizer=keras.optimizers.Adam(learning_rate=0.0005), loss='mse')  # 🔹 Reduzi taxa de aprendizado\n",
        "\n",
        "    return autoencoder\n",
        "\n",
        "# 🔹 Criar modelo\n",
        "autoencoder = criar_autoencoder()\n",
        "\n",
        "# 🔹 Callbacks (Salvar checkpoints, reduzir LR dinamicamente)\n",
        "checkpoint_path = os.path.join(pasta_checkpoint, \"autoencoder_best.h5\")\n",
        "csv_logger_path = os.path.join(pasta_logs, \"training_log.csv\")\n",
        "\n",
        "checkpoint = ModelCheckpoint(checkpoint_path, monitor='val_loss', save_best_only=True, verbose=1)\n",
        "csv_logger = CSVLogger(csv_logger_path, append=True)\n",
        "reduce_lr = ReduceLROnPlateau(monitor='val_loss', factor=0.5, patience=5, min_lr=1e-6, verbose=1)\n",
        "\n",
        "# 🔹 Treinar o modelo\n",
        "history = autoencoder.fit(\n",
        "    X_train, X_train,\n",
        "    validation_data=(X_test, X_test),\n",
        "    epochs=EPOCHS,\n",
        "    batch_size=BATCH_SIZE,\n",
        "    callbacks=[checkpoint, csv_logger, reduce_lr]\n",
        ")\n",
        "\n",
        "# 🔹 Salvar logs do treinamento\n",
        "df_logs = pd.read_csv(csv_logger_path)\n",
        "print(df_logs.tail())\n",
        "\n",
        "# 🔹 Salvar modelo final\n",
        "modelo_final_path = os.path.join(pasta_checkpoint, \"autoencoder_final.h5\")\n",
        "autoencoder.save(modelo_final_path)\n",
        "\n",
        "print(f\"✅ Treinamento concluído. Modelo salvo em: {modelo_final_path}\")\n"
      ],
      "metadata": {
        "colab": {
          "base_uri": "https://localhost:8080/"
        },
        "id": "DZEKLRq2HGkC",
        "outputId": "1d743f1e-e5c2-4bd8-8090-dd8f7ebb8353"
      },
      "execution_count": null,
      "outputs": [
        {
          "output_type": "stream",
          "name": "stdout",
          "text": [
            "Epoch 1/50\n",
            "\u001b[1m18/18\u001b[0m \u001b[32m━━━━━━━━━━━━━━━━━━━━\u001b[0m\u001b[37m\u001b[0m \u001b[1m0s\u001b[0m 241ms/step - loss: 0.1789\n",
            "Epoch 1: val_loss improved from inf to 0.23799, saving model to /content/drive/MyDrive/Unb/Autoencoder_Checkpoints_3/autoencoder_best.h5\n"
          ]
        },
        {
          "output_type": "stream",
          "name": "stderr",
          "text": [
            "WARNING:absl:You are saving your model as an HDF5 file via `model.save()` or `keras.saving.save_model(model)`. This file format is considered legacy. We recommend using instead the native Keras format, e.g. `model.save('my_model.keras')` or `keras.saving.save_model(model, 'my_model.keras')`. \n"
          ]
        },
        {
          "output_type": "stream",
          "name": "stdout",
          "text": [
            "\b\b\b\b\b\b\b\b\b\b\b\b\b\b\b\b\b\b\b\b\b\b\b\b\b\b\b\b\b\b\b\b\b\b\b\b\b\b\b\b\b\b\b\b\b\b\b\b\b\b\b\b\b\b\b\r\u001b[1m18/18\u001b[0m \u001b[32m━━━━━━━━━━━━━━━━━━━━\u001b[0m\u001b[37m\u001b[0m \u001b[1m13s\u001b[0m 331ms/step - loss: 0.1757 - val_loss: 0.2380 - learning_rate: 5.0000e-04\n",
            "Epoch 2/50\n",
            "\u001b[1m18/18\u001b[0m \u001b[32m━━━━━━━━━━━━━━━━━━━━\u001b[0m\u001b[37m\u001b[0m \u001b[1m0s\u001b[0m 344ms/step - loss: 0.0633\n",
            "Epoch 2: val_loss improved from 0.23799 to 0.20697, saving model to /content/drive/MyDrive/Unb/Autoencoder_Checkpoints_3/autoencoder_best.h5\n"
          ]
        },
        {
          "output_type": "stream",
          "name": "stderr",
          "text": [
            "WARNING:absl:You are saving your model as an HDF5 file via `model.save()` or `keras.saving.save_model(model)`. This file format is considered legacy. We recommend using instead the native Keras format, e.g. `model.save('my_model.keras')` or `keras.saving.save_model(model, 'my_model.keras')`. \n"
          ]
        },
        {
          "output_type": "stream",
          "name": "stdout",
          "text": [
            "\b\b\b\b\b\b\b\b\b\b\b\b\b\b\b\b\b\b\b\b\b\b\b\b\b\b\b\b\b\b\b\b\b\b\b\b\b\b\b\b\b\b\b\b\b\b\b\b\b\b\b\b\b\b\b\r\u001b[1m18/18\u001b[0m \u001b[32m━━━━━━━━━━━━━━━━━━━━\u001b[0m\u001b[37m\u001b[0m \u001b[1m7s\u001b[0m 381ms/step - loss: 0.0632 - val_loss: 0.2070 - learning_rate: 5.0000e-04\n",
            "Epoch 3/50\n",
            "\u001b[1m18/18\u001b[0m \u001b[32m━━━━━━━━━━━━━━━━━━━━\u001b[0m\u001b[37m\u001b[0m \u001b[1m0s\u001b[0m 236ms/step - loss: 0.0484\n",
            "Epoch 3: val_loss improved from 0.20697 to 0.17141, saving model to /content/drive/MyDrive/Unb/Autoencoder_Checkpoints_3/autoencoder_best.h5\n"
          ]
        },
        {
          "output_type": "stream",
          "name": "stderr",
          "text": [
            "WARNING:absl:You are saving your model as an HDF5 file via `model.save()` or `keras.saving.save_model(model)`. This file format is considered legacy. We recommend using instead the native Keras format, e.g. `model.save('my_model.keras')` or `keras.saving.save_model(model, 'my_model.keras')`. \n"
          ]
        },
        {
          "output_type": "stream",
          "name": "stdout",
          "text": [
            "\b\b\b\b\b\b\b\b\b\b\b\b\b\b\b\b\b\b\b\b\b\b\b\b\b\b\b\b\b\b\b\b\b\b\b\b\b\b\b\b\b\b\b\b\b\b\b\b\b\b\b\b\b\b\b\r\u001b[1m18/18\u001b[0m \u001b[32m━━━━━━━━━━━━━━━━━━━━\u001b[0m\u001b[37m\u001b[0m \u001b[1m5s\u001b[0m 270ms/step - loss: 0.0483 - val_loss: 0.1714 - learning_rate: 5.0000e-04\n",
            "Epoch 4/50\n",
            "\u001b[1m18/18\u001b[0m \u001b[32m━━━━━━━━━━━━━━━━━━━━\u001b[0m\u001b[37m\u001b[0m \u001b[1m0s\u001b[0m 259ms/step - loss: 0.0401\n",
            "Epoch 4: val_loss improved from 0.17141 to 0.14583, saving model to /content/drive/MyDrive/Unb/Autoencoder_Checkpoints_3/autoencoder_best.h5\n"
          ]
        },
        {
          "output_type": "stream",
          "name": "stderr",
          "text": [
            "WARNING:absl:You are saving your model as an HDF5 file via `model.save()` or `keras.saving.save_model(model)`. This file format is considered legacy. We recommend using instead the native Keras format, e.g. `model.save('my_model.keras')` or `keras.saving.save_model(model, 'my_model.keras')`. \n"
          ]
        },
        {
          "output_type": "stream",
          "name": "stdout",
          "text": [
            "\b\b\b\b\b\b\b\b\b\b\b\b\b\b\b\b\b\b\b\b\b\b\b\b\b\b\b\b\b\b\b\b\b\b\b\b\b\b\b\b\b\b\b\b\b\b\b\b\b\b\b\b\b\b\b\r\u001b[1m18/18\u001b[0m \u001b[32m━━━━━━━━━━━━━━━━━━━━\u001b[0m\u001b[37m\u001b[0m \u001b[1m6s\u001b[0m 324ms/step - loss: 0.0401 - val_loss: 0.1458 - learning_rate: 5.0000e-04\n",
            "Epoch 5/50\n",
            "\u001b[1m18/18\u001b[0m \u001b[32m━━━━━━━━━━━━━━━━━━━━\u001b[0m\u001b[37m\u001b[0m \u001b[1m0s\u001b[0m 243ms/step - loss: 0.0351\n",
            "Epoch 5: val_loss improved from 0.14583 to 0.12922, saving model to /content/drive/MyDrive/Unb/Autoencoder_Checkpoints_3/autoencoder_best.h5\n"
          ]
        },
        {
          "output_type": "stream",
          "name": "stderr",
          "text": [
            "WARNING:absl:You are saving your model as an HDF5 file via `model.save()` or `keras.saving.save_model(model)`. This file format is considered legacy. We recommend using instead the native Keras format, e.g. `model.save('my_model.keras')` or `keras.saving.save_model(model, 'my_model.keras')`. \n"
          ]
        },
        {
          "output_type": "stream",
          "name": "stdout",
          "text": [
            "\b\b\b\b\b\b\b\b\b\b\b\b\b\b\b\b\b\b\b\b\b\b\b\b\b\b\b\b\b\b\b\b\b\b\b\b\b\b\b\b\b\b\b\b\b\b\b\b\b\b\b\b\b\b\b\r\u001b[1m18/18\u001b[0m \u001b[32m━━━━━━━━━━━━━━━━━━━━\u001b[0m\u001b[37m\u001b[0m \u001b[1m10s\u001b[0m 297ms/step - loss: 0.0351 - val_loss: 0.1292 - learning_rate: 5.0000e-04\n",
            "Epoch 6/50\n",
            "\u001b[1m18/18\u001b[0m \u001b[32m━━━━━━━━━━━━━━━━━━━━\u001b[0m\u001b[37m\u001b[0m \u001b[1m0s\u001b[0m 217ms/step - loss: 0.0319\n",
            "Epoch 6: val_loss improved from 0.12922 to 0.11747, saving model to /content/drive/MyDrive/Unb/Autoencoder_Checkpoints_3/autoencoder_best.h5\n"
          ]
        },
        {
          "output_type": "stream",
          "name": "stderr",
          "text": [
            "WARNING:absl:You are saving your model as an HDF5 file via `model.save()` or `keras.saving.save_model(model)`. This file format is considered legacy. We recommend using instead the native Keras format, e.g. `model.save('my_model.keras')` or `keras.saving.save_model(model, 'my_model.keras')`. \n"
          ]
        },
        {
          "output_type": "stream",
          "name": "stdout",
          "text": [
            "\b\b\b\b\b\b\b\b\b\b\b\b\b\b\b\b\b\b\b\b\b\b\b\b\b\b\b\b\b\b\b\b\b\b\b\b\b\b\b\b\b\b\b\b\b\b\b\b\b\b\b\b\b\b\b\r\u001b[1m18/18\u001b[0m \u001b[32m━━━━━━━━━━━━━━━━━━━━\u001b[0m\u001b[37m\u001b[0m \u001b[1m9s\u001b[0m 247ms/step - loss: 0.0319 - val_loss: 0.1175 - learning_rate: 5.0000e-04\n",
            "Epoch 7/50\n",
            "\u001b[1m18/18\u001b[0m \u001b[32m━━━━━━━━━━━━━━━━━━━━\u001b[0m\u001b[37m\u001b[0m \u001b[1m0s\u001b[0m 233ms/step - loss: 0.0312\n",
            "Epoch 7: val_loss improved from 0.11747 to 0.10185, saving model to /content/drive/MyDrive/Unb/Autoencoder_Checkpoints_3/autoencoder_best.h5\n"
          ]
        },
        {
          "output_type": "stream",
          "name": "stderr",
          "text": [
            "WARNING:absl:You are saving your model as an HDF5 file via `model.save()` or `keras.saving.save_model(model)`. This file format is considered legacy. We recommend using instead the native Keras format, e.g. `model.save('my_model.keras')` or `keras.saving.save_model(model, 'my_model.keras')`. \n"
          ]
        },
        {
          "output_type": "stream",
          "name": "stdout",
          "text": [
            "\b\b\b\b\b\b\b\b\b\b\b\b\b\b\b\b\b\b\b\b\b\b\b\b\b\b\b\b\b\b\b\b\b\b\b\b\b\b\b\b\b\b\b\b\b\b\b\b\b\b\b\b\b\b\b\r\u001b[1m18/18\u001b[0m \u001b[32m━━━━━━━━━━━━━━━━━━━━\u001b[0m\u001b[37m\u001b[0m \u001b[1m5s\u001b[0m 268ms/step - loss: 0.0312 - val_loss: 0.1019 - learning_rate: 5.0000e-04\n",
            "Epoch 8/50\n",
            "\u001b[1m18/18\u001b[0m \u001b[32m━━━━━━━━━━━━━━━━━━━━\u001b[0m\u001b[37m\u001b[0m \u001b[1m0s\u001b[0m 325ms/step - loss: 0.0284\n",
            "Epoch 8: val_loss improved from 0.10185 to 0.09249, saving model to /content/drive/MyDrive/Unb/Autoencoder_Checkpoints_3/autoencoder_best.h5\n"
          ]
        },
        {
          "output_type": "stream",
          "name": "stderr",
          "text": [
            "WARNING:absl:You are saving your model as an HDF5 file via `model.save()` or `keras.saving.save_model(model)`. This file format is considered legacy. We recommend using instead the native Keras format, e.g. `model.save('my_model.keras')` or `keras.saving.save_model(model, 'my_model.keras')`. \n"
          ]
        },
        {
          "output_type": "stream",
          "name": "stdout",
          "text": [
            "\b\b\b\b\b\b\b\b\b\b\b\b\b\b\b\b\b\b\b\b\b\b\b\b\b\b\b\b\b\b\b\b\b\b\b\b\b\b\b\b\b\b\b\b\b\b\b\b\b\b\b\b\b\b\b\r\u001b[1m18/18\u001b[0m \u001b[32m━━━━━━━━━━━━━━━━━━━━\u001b[0m\u001b[37m\u001b[0m \u001b[1m7s\u001b[0m 375ms/step - loss: 0.0284 - val_loss: 0.0925 - learning_rate: 5.0000e-04\n",
            "Epoch 9/50\n",
            "\u001b[1m18/18\u001b[0m \u001b[32m━━━━━━━━━━━━━━━━━━━━\u001b[0m\u001b[37m\u001b[0m \u001b[1m0s\u001b[0m 214ms/step - loss: 0.0272\n",
            "Epoch 9: val_loss improved from 0.09249 to 0.07913, saving model to /content/drive/MyDrive/Unb/Autoencoder_Checkpoints_3/autoencoder_best.h5\n"
          ]
        },
        {
          "output_type": "stream",
          "name": "stderr",
          "text": [
            "WARNING:absl:You are saving your model as an HDF5 file via `model.save()` or `keras.saving.save_model(model)`. This file format is considered legacy. We recommend using instead the native Keras format, e.g. `model.save('my_model.keras')` or `keras.saving.save_model(model, 'my_model.keras')`. \n"
          ]
        },
        {
          "output_type": "stream",
          "name": "stdout",
          "text": [
            "\b\b\b\b\b\b\b\b\b\b\b\b\b\b\b\b\b\b\b\b\b\b\b\b\b\b\b\b\b\b\b\b\b\b\b\b\b\b\b\b\b\b\b\b\b\b\b\b\b\b\b\b\b\b\b\r\u001b[1m18/18\u001b[0m \u001b[32m━━━━━━━━━━━━━━━━━━━━\u001b[0m\u001b[37m\u001b[0m \u001b[1m4s\u001b[0m 248ms/step - loss: 0.0272 - val_loss: 0.0791 - learning_rate: 5.0000e-04\n",
            "Epoch 10/50\n",
            "\u001b[1m18/18\u001b[0m \u001b[32m━━━━━━━━━━━━━━━━━━━━\u001b[0m\u001b[37m\u001b[0m \u001b[1m0s\u001b[0m 274ms/step - loss: 0.0274\n",
            "Epoch 10: val_loss improved from 0.07913 to 0.07864, saving model to /content/drive/MyDrive/Unb/Autoencoder_Checkpoints_3/autoencoder_best.h5\n"
          ]
        },
        {
          "output_type": "stream",
          "name": "stderr",
          "text": [
            "WARNING:absl:You are saving your model as an HDF5 file via `model.save()` or `keras.saving.save_model(model)`. This file format is considered legacy. We recommend using instead the native Keras format, e.g. `model.save('my_model.keras')` or `keras.saving.save_model(model, 'my_model.keras')`. \n"
          ]
        },
        {
          "output_type": "stream",
          "name": "stdout",
          "text": [
            "\b\b\b\b\b\b\b\b\b\b\b\b\b\b\b\b\b\b\b\b\b\b\b\b\b\b\b\b\b\b\b\b\b\b\b\b\b\b\b\b\b\b\b\b\b\b\b\b\b\b\b\b\b\b\b\r\u001b[1m18/18\u001b[0m \u001b[32m━━━━━━━━━━━━━━━━━━━━\u001b[0m\u001b[37m\u001b[0m \u001b[1m6s\u001b[0m 328ms/step - loss: 0.0274 - val_loss: 0.0786 - learning_rate: 5.0000e-04\n",
            "Epoch 11/50\n",
            "\u001b[1m18/18\u001b[0m \u001b[32m━━━━━━━━━━━━━━━━━━━━\u001b[0m\u001b[37m\u001b[0m \u001b[1m0s\u001b[0m 236ms/step - loss: 0.0260\n",
            "Epoch 11: val_loss improved from 0.07864 to 0.06875, saving model to /content/drive/MyDrive/Unb/Autoencoder_Checkpoints_3/autoencoder_best.h5\n"
          ]
        },
        {
          "output_type": "stream",
          "name": "stderr",
          "text": [
            "WARNING:absl:You are saving your model as an HDF5 file via `model.save()` or `keras.saving.save_model(model)`. This file format is considered legacy. We recommend using instead the native Keras format, e.g. `model.save('my_model.keras')` or `keras.saving.save_model(model, 'my_model.keras')`. \n"
          ]
        },
        {
          "output_type": "stream",
          "name": "stdout",
          "text": [
            "\b\b\b\b\b\b\b\b\b\b\b\b\b\b\b\b\b\b\b\b\b\b\b\b\b\b\b\b\b\b\b\b\b\b\b\b\b\b\b\b\b\b\b\b\b\b\b\b\b\b\b\b\b\b\b\r\u001b[1m18/18\u001b[0m \u001b[32m━━━━━━━━━━━━━━━━━━━━\u001b[0m\u001b[37m\u001b[0m \u001b[1m9s\u001b[0m 283ms/step - loss: 0.0260 - val_loss: 0.0687 - learning_rate: 5.0000e-04\n",
            "Epoch 12/50\n",
            "\u001b[1m18/18\u001b[0m \u001b[32m━━━━━━━━━━━━━━━━━━━━\u001b[0m\u001b[37m\u001b[0m \u001b[1m0s\u001b[0m 320ms/step - loss: 0.0249\n",
            "Epoch 12: val_loss improved from 0.06875 to 0.06350, saving model to /content/drive/MyDrive/Unb/Autoencoder_Checkpoints_3/autoencoder_best.h5\n"
          ]
        },
        {
          "output_type": "stream",
          "name": "stderr",
          "text": [
            "WARNING:absl:You are saving your model as an HDF5 file via `model.save()` or `keras.saving.save_model(model)`. This file format is considered legacy. We recommend using instead the native Keras format, e.g. `model.save('my_model.keras')` or `keras.saving.save_model(model, 'my_model.keras')`. \n"
          ]
        },
        {
          "output_type": "stream",
          "name": "stdout",
          "text": [
            "\b\b\b\b\b\b\b\b\b\b\b\b\b\b\b\b\b\b\b\b\b\b\b\b\b\b\b\b\b\b\b\b\b\b\b\b\b\b\b\b\b\b\b\b\b\b\b\b\b\b\b\b\b\b\b\r\u001b[1m18/18\u001b[0m \u001b[32m━━━━━━━━━━━━━━━━━━━━\u001b[0m\u001b[37m\u001b[0m \u001b[1m6s\u001b[0m 359ms/step - loss: 0.0248 - val_loss: 0.0635 - learning_rate: 5.0000e-04\n",
            "Epoch 13/50\n",
            "\u001b[1m18/18\u001b[0m \u001b[32m━━━━━━━━━━━━━━━━━━━━\u001b[0m\u001b[37m\u001b[0m \u001b[1m0s\u001b[0m 223ms/step - loss: 0.0241\n",
            "Epoch 13: val_loss improved from 0.06350 to 0.05650, saving model to /content/drive/MyDrive/Unb/Autoencoder_Checkpoints_3/autoencoder_best.h5\n"
          ]
        },
        {
          "output_type": "stream",
          "name": "stderr",
          "text": [
            "WARNING:absl:You are saving your model as an HDF5 file via `model.save()` or `keras.saving.save_model(model)`. This file format is considered legacy. We recommend using instead the native Keras format, e.g. `model.save('my_model.keras')` or `keras.saving.save_model(model, 'my_model.keras')`. \n"
          ]
        },
        {
          "output_type": "stream",
          "name": "stdout",
          "text": [
            "\b\b\b\b\b\b\b\b\b\b\b\b\b\b\b\b\b\b\b\b\b\b\b\b\b\b\b\b\b\b\b\b\b\b\b\b\b\b\b\b\b\b\b\b\b\b\b\b\b\b\b\b\b\b\b\r\u001b[1m18/18\u001b[0m \u001b[32m━━━━━━━━━━━━━━━━━━━━\u001b[0m\u001b[37m\u001b[0m \u001b[1m9s\u001b[0m 273ms/step - loss: 0.0241 - val_loss: 0.0565 - learning_rate: 5.0000e-04\n",
            "Epoch 14/50\n",
            "\u001b[1m18/18\u001b[0m \u001b[32m━━━━━━━━━━━━━━━━━━━━\u001b[0m\u001b[37m\u001b[0m \u001b[1m0s\u001b[0m 354ms/step - loss: 0.0239\n",
            "Epoch 14: val_loss did not improve from 0.05650\n",
            "\u001b[1m18/18\u001b[0m \u001b[32m━━━━━━━━━━━━━━━━━━━━\u001b[0m\u001b[37m\u001b[0m \u001b[1m7s\u001b[0m 375ms/step - loss: 0.0239 - val_loss: 0.0596 - learning_rate: 5.0000e-04\n",
            "Epoch 15/50\n",
            "\u001b[1m18/18\u001b[0m \u001b[32m━━━━━━━━━━━━━━━━━━━━\u001b[0m\u001b[37m\u001b[0m \u001b[1m0s\u001b[0m 235ms/step - loss: 0.0221\n",
            "Epoch 15: val_loss improved from 0.05650 to 0.05518, saving model to /content/drive/MyDrive/Unb/Autoencoder_Checkpoints_3/autoencoder_best.h5\n"
          ]
        },
        {
          "output_type": "stream",
          "name": "stderr",
          "text": [
            "WARNING:absl:You are saving your model as an HDF5 file via `model.save()` or `keras.saving.save_model(model)`. This file format is considered legacy. We recommend using instead the native Keras format, e.g. `model.save('my_model.keras')` or `keras.saving.save_model(model, 'my_model.keras')`. \n"
          ]
        },
        {
          "output_type": "stream",
          "name": "stdout",
          "text": [
            "\b\b\b\b\b\b\b\b\b\b\b\b\b\b\b\b\b\b\b\b\b\b\b\b\b\b\b\b\b\b\b\b\b\b\b\b\b\b\b\b\b\b\b\b\b\b\b\b\b\b\b\b\b\b\b\r\u001b[1m18/18\u001b[0m \u001b[32m━━━━━━━━━━━━━━━━━━━━\u001b[0m\u001b[37m\u001b[0m \u001b[1m5s\u001b[0m 288ms/step - loss: 0.0221 - val_loss: 0.0552 - learning_rate: 5.0000e-04\n",
            "Epoch 16/50\n",
            "\u001b[1m18/18\u001b[0m \u001b[32m━━━━━━━━━━━━━━━━━━━━\u001b[0m\u001b[37m\u001b[0m \u001b[1m0s\u001b[0m 311ms/step - loss: 0.0216\n",
            "Epoch 16: val_loss did not improve from 0.05518\n",
            "\u001b[1m18/18\u001b[0m \u001b[32m━━━━━━━━━━━━━━━━━━━━\u001b[0m\u001b[37m\u001b[0m \u001b[1m11s\u001b[0m 332ms/step - loss: 0.0216 - val_loss: 0.0553 - learning_rate: 5.0000e-04\n",
            "Epoch 17/50\n",
            "\u001b[1m18/18\u001b[0m \u001b[32m━━━━━━━━━━━━━━━━━━━━\u001b[0m\u001b[37m\u001b[0m \u001b[1m0s\u001b[0m 273ms/step - loss: 0.0213\n",
            "Epoch 17: val_loss improved from 0.05518 to 0.04999, saving model to /content/drive/MyDrive/Unb/Autoencoder_Checkpoints_3/autoencoder_best.h5\n"
          ]
        },
        {
          "output_type": "stream",
          "name": "stderr",
          "text": [
            "WARNING:absl:You are saving your model as an HDF5 file via `model.save()` or `keras.saving.save_model(model)`. This file format is considered legacy. We recommend using instead the native Keras format, e.g. `model.save('my_model.keras')` or `keras.saving.save_model(model, 'my_model.keras')`. \n"
          ]
        },
        {
          "output_type": "stream",
          "name": "stdout",
          "text": [
            "\b\b\b\b\b\b\b\b\b\b\b\b\b\b\b\b\b\b\b\b\b\b\b\b\b\b\b\b\b\b\b\b\b\b\b\b\b\b\b\b\b\b\b\b\b\b\b\b\b\b\b\b\b\b\b\r\u001b[1m18/18\u001b[0m \u001b[32m━━━━━━━━━━━━━━━━━━━━\u001b[0m\u001b[37m\u001b[0m \u001b[1m10s\u001b[0m 352ms/step - loss: 0.0213 - val_loss: 0.0500 - learning_rate: 5.0000e-04\n",
            "Epoch 18/50\n",
            "\u001b[1m18/18\u001b[0m \u001b[32m━━━━━━━━━━━━━━━━━━━━\u001b[0m\u001b[37m\u001b[0m \u001b[1m0s\u001b[0m 269ms/step - loss: 0.0205\n",
            "Epoch 18: val_loss improved from 0.04999 to 0.04417, saving model to /content/drive/MyDrive/Unb/Autoencoder_Checkpoints_3/autoencoder_best.h5\n"
          ]
        },
        {
          "output_type": "stream",
          "name": "stderr",
          "text": [
            "WARNING:absl:You are saving your model as an HDF5 file via `model.save()` or `keras.saving.save_model(model)`. This file format is considered legacy. We recommend using instead the native Keras format, e.g. `model.save('my_model.keras')` or `keras.saving.save_model(model, 'my_model.keras')`. \n"
          ]
        },
        {
          "output_type": "stream",
          "name": "stdout",
          "text": [
            "\b\b\b\b\b\b\b\b\b\b\b\b\b\b\b\b\b\b\b\b\b\b\b\b\b\b\b\b\b\b\b\b\b\b\b\b\b\b\b\b\b\b\b\b\b\b\b\b\b\b\b\b\b\b\b\r\u001b[1m18/18\u001b[0m \u001b[32m━━━━━━━━━━━━━━━━━━━━\u001b[0m\u001b[37m\u001b[0m \u001b[1m6s\u001b[0m 303ms/step - loss: 0.0205 - val_loss: 0.0442 - learning_rate: 5.0000e-04\n",
            "Epoch 19/50\n",
            "\u001b[1m18/18\u001b[0m \u001b[32m━━━━━━━━━━━━━━━━━━━━\u001b[0m\u001b[37m\u001b[0m \u001b[1m0s\u001b[0m 356ms/step - loss: 0.0202\n",
            "Epoch 19: val_loss improved from 0.04417 to 0.03920, saving model to /content/drive/MyDrive/Unb/Autoencoder_Checkpoints_3/autoencoder_best.h5\n"
          ]
        },
        {
          "output_type": "stream",
          "name": "stderr",
          "text": [
            "WARNING:absl:You are saving your model as an HDF5 file via `model.save()` or `keras.saving.save_model(model)`. This file format is considered legacy. We recommend using instead the native Keras format, e.g. `model.save('my_model.keras')` or `keras.saving.save_model(model, 'my_model.keras')`. \n"
          ]
        },
        {
          "output_type": "stream",
          "name": "stdout",
          "text": [
            "\b\b\b\b\b\b\b\b\b\b\b\b\b\b\b\b\b\b\b\b\b\b\b\b\b\b\b\b\b\b\b\b\b\b\b\b\b\b\b\b\b\b\b\b\b\b\b\b\b\b\b\b\b\b\b\r\u001b[1m18/18\u001b[0m \u001b[32m━━━━━━━━━━━━━━━━━━━━\u001b[0m\u001b[37m\u001b[0m \u001b[1m12s\u001b[0m 412ms/step - loss: 0.0202 - val_loss: 0.0392 - learning_rate: 5.0000e-04\n",
            "Epoch 20/50\n",
            "\u001b[1m18/18\u001b[0m \u001b[32m━━━━━━━━━━━━━━━━━━━━\u001b[0m\u001b[37m\u001b[0m \u001b[1m0s\u001b[0m 243ms/step - loss: 0.0201\n",
            "Epoch 20: val_loss did not improve from 0.03920\n",
            "\u001b[1m18/18\u001b[0m \u001b[32m━━━━━━━━━━━━━━━━━━━━\u001b[0m\u001b[37m\u001b[0m \u001b[1m8s\u001b[0m 261ms/step - loss: 0.0201 - val_loss: 0.0435 - learning_rate: 5.0000e-04\n",
            "Epoch 21/50\n",
            "\u001b[1m18/18\u001b[0m \u001b[32m━━━━━━━━━━━━━━━━━━━━\u001b[0m\u001b[37m\u001b[0m \u001b[1m0s\u001b[0m 337ms/step - loss: 0.0196\n",
            "Epoch 21: val_loss improved from 0.03920 to 0.03562, saving model to /content/drive/MyDrive/Unb/Autoencoder_Checkpoints_3/autoencoder_best.h5\n"
          ]
        },
        {
          "output_type": "stream",
          "name": "stderr",
          "text": [
            "WARNING:absl:You are saving your model as an HDF5 file via `model.save()` or `keras.saving.save_model(model)`. This file format is considered legacy. We recommend using instead the native Keras format, e.g. `model.save('my_model.keras')` or `keras.saving.save_model(model, 'my_model.keras')`. \n"
          ]
        },
        {
          "output_type": "stream",
          "name": "stdout",
          "text": [
            "\b\b\b\b\b\b\b\b\b\b\b\b\b\b\b\b\b\b\b\b\b\b\b\b\b\b\b\b\b\b\b\b\b\b\b\b\b\b\b\b\b\b\b\b\b\b\b\b\b\b\b\b\b\b\b\r\u001b[1m18/18\u001b[0m \u001b[32m━━━━━━━━━━━━━━━━━━━━\u001b[0m\u001b[37m\u001b[0m \u001b[1m7s\u001b[0m 386ms/step - loss: 0.0195 - val_loss: 0.0356 - learning_rate: 5.0000e-04\n",
            "Epoch 22/50\n",
            "\u001b[1m18/18\u001b[0m \u001b[32m━━━━━━━━━━━━━━━━━━━━\u001b[0m\u001b[37m\u001b[0m \u001b[1m0s\u001b[0m 231ms/step - loss: 0.0183\n",
            "Epoch 22: val_loss improved from 0.03562 to 0.03400, saving model to /content/drive/MyDrive/Unb/Autoencoder_Checkpoints_3/autoencoder_best.h5\n"
          ]
        },
        {
          "output_type": "stream",
          "name": "stderr",
          "text": [
            "WARNING:absl:You are saving your model as an HDF5 file via `model.save()` or `keras.saving.save_model(model)`. This file format is considered legacy. We recommend using instead the native Keras format, e.g. `model.save('my_model.keras')` or `keras.saving.save_model(model, 'my_model.keras')`. \n"
          ]
        },
        {
          "output_type": "stream",
          "name": "stdout",
          "text": [
            "\b\b\b\b\b\b\b\b\b\b\b\b\b\b\b\b\b\b\b\b\b\b\b\b\b\b\b\b\b\b\b\b\b\b\b\b\b\b\b\b\b\b\b\b\b\b\b\b\b\b\b\b\b\b\b\r\u001b[1m18/18\u001b[0m \u001b[32m━━━━━━━━━━━━━━━━━━━━\u001b[0m\u001b[37m\u001b[0m \u001b[1m8s\u001b[0m 264ms/step - loss: 0.0183 - val_loss: 0.0340 - learning_rate: 5.0000e-04\n",
            "Epoch 23/50\n",
            "\u001b[1m18/18\u001b[0m \u001b[32m━━━━━━━━━━━━━━━━━━━━\u001b[0m\u001b[37m\u001b[0m \u001b[1m0s\u001b[0m 342ms/step - loss: 0.0177\n",
            "Epoch 23: val_loss improved from 0.03400 to 0.02911, saving model to /content/drive/MyDrive/Unb/Autoencoder_Checkpoints_3/autoencoder_best.h5\n"
          ]
        },
        {
          "output_type": "stream",
          "name": "stderr",
          "text": [
            "WARNING:absl:You are saving your model as an HDF5 file via `model.save()` or `keras.saving.save_model(model)`. This file format is considered legacy. We recommend using instead the native Keras format, e.g. `model.save('my_model.keras')` or `keras.saving.save_model(model, 'my_model.keras')`. \n"
          ]
        },
        {
          "output_type": "stream",
          "name": "stdout",
          "text": [
            "\b\b\b\b\b\b\b\b\b\b\b\b\b\b\b\b\b\b\b\b\b\b\b\b\b\b\b\b\b\b\b\b\b\b\b\b\b\b\b\b\b\b\b\b\b\b\b\b\b\b\b\b\b\b\b\r\u001b[1m18/18\u001b[0m \u001b[32m━━━━━━━━━━━━━━━━━━━━\u001b[0m\u001b[37m\u001b[0m \u001b[1m7s\u001b[0m 377ms/step - loss: 0.0177 - val_loss: 0.0291 - learning_rate: 5.0000e-04\n",
            "Epoch 24/50\n",
            "\u001b[1m18/18\u001b[0m \u001b[32m━━━━━━━━━━━━━━━━━━━━\u001b[0m\u001b[37m\u001b[0m \u001b[1m0s\u001b[0m 226ms/step - loss: 0.0180\n",
            "Epoch 24: val_loss did not improve from 0.02911\n",
            "\u001b[1m18/18\u001b[0m \u001b[32m━━━━━━━━━━━━━━━━━━━━\u001b[0m\u001b[37m\u001b[0m \u001b[1m4s\u001b[0m 247ms/step - loss: 0.0180 - val_loss: 0.0356 - learning_rate: 5.0000e-04\n",
            "Epoch 25/50\n",
            "\u001b[1m18/18\u001b[0m \u001b[32m━━━━━━━━━━━━━━━━━━━━\u001b[0m\u001b[37m\u001b[0m \u001b[1m0s\u001b[0m 239ms/step - loss: 0.0177\n",
            "Epoch 25: val_loss did not improve from 0.02911\n",
            "\u001b[1m18/18\u001b[0m \u001b[32m━━━━━━━━━━━━━━━━━━━━\u001b[0m\u001b[37m\u001b[0m \u001b[1m6s\u001b[0m 281ms/step - loss: 0.0178 - val_loss: 0.0304 - learning_rate: 5.0000e-04\n",
            "Epoch 26/50\n",
            "\u001b[1m18/18\u001b[0m \u001b[32m━━━━━━━━━━━━━━━━━━━━\u001b[0m\u001b[37m\u001b[0m \u001b[1m0s\u001b[0m 290ms/step - loss: 0.0178\n",
            "Epoch 26: val_loss did not improve from 0.02911\n",
            "\u001b[1m18/18\u001b[0m \u001b[32m━━━━━━━━━━━━━━━━━━━━\u001b[0m\u001b[37m\u001b[0m \u001b[1m6s\u001b[0m 310ms/step - loss: 0.0178 - val_loss: 0.0324 - learning_rate: 5.0000e-04\n",
            "Epoch 27/50\n",
            "\u001b[1m18/18\u001b[0m \u001b[32m━━━━━━━━━━━━━━━━━━━━\u001b[0m\u001b[37m\u001b[0m \u001b[1m0s\u001b[0m 208ms/step - loss: 0.0184\n",
            "Epoch 27: val_loss did not improve from 0.02911\n",
            "\u001b[1m18/18\u001b[0m \u001b[32m━━━━━━━━━━━━━━━━━━━━\u001b[0m\u001b[37m\u001b[0m \u001b[1m4s\u001b[0m 228ms/step - loss: 0.0184 - val_loss: 0.0296 - learning_rate: 5.0000e-04\n",
            "Epoch 28/50\n",
            "\u001b[1m18/18\u001b[0m \u001b[32m━━━━━━━━━━━━━━━━━━━━\u001b[0m\u001b[37m\u001b[0m \u001b[1m0s\u001b[0m 257ms/step - loss: 0.0171\n",
            "Epoch 28: val_loss did not improve from 0.02911\n",
            "\n",
            "Epoch 28: ReduceLROnPlateau reducing learning rate to 0.0002500000118743628.\n",
            "\u001b[1m18/18\u001b[0m \u001b[32m━━━━━━━━━━━━━━━━━━━━\u001b[0m\u001b[37m\u001b[0m \u001b[1m6s\u001b[0m 299ms/step - loss: 0.0171 - val_loss: 0.0385 - learning_rate: 5.0000e-04\n",
            "Epoch 29/50\n",
            "\u001b[1m18/18\u001b[0m \u001b[32m━━━━━━━━━━━━━━━━━━━━\u001b[0m\u001b[37m\u001b[0m \u001b[1m0s\u001b[0m 231ms/step - loss: 0.0190\n",
            "Epoch 29: val_loss improved from 0.02911 to 0.02689, saving model to /content/drive/MyDrive/Unb/Autoencoder_Checkpoints_3/autoencoder_best.h5\n"
          ]
        },
        {
          "output_type": "stream",
          "name": "stderr",
          "text": [
            "WARNING:absl:You are saving your model as an HDF5 file via `model.save()` or `keras.saving.save_model(model)`. This file format is considered legacy. We recommend using instead the native Keras format, e.g. `model.save('my_model.keras')` or `keras.saving.save_model(model, 'my_model.keras')`. \n"
          ]
        },
        {
          "output_type": "stream",
          "name": "stdout",
          "text": [
            "\b\b\b\b\b\b\b\b\b\b\b\b\b\b\b\b\b\b\b\b\b\b\b\b\b\b\b\b\b\b\b\b\b\b\b\b\b\b\b\b\b\b\b\b\b\b\b\b\b\b\b\b\b\b\b\r\u001b[1m18/18\u001b[0m \u001b[32m━━━━━━━━━━━━━━━━━━━━\u001b[0m\u001b[37m\u001b[0m \u001b[1m10s\u001b[0m 286ms/step - loss: 0.0189 - val_loss: 0.0269 - learning_rate: 2.5000e-04\n",
            "Epoch 30/50\n",
            "\u001b[1m18/18\u001b[0m \u001b[32m━━━━━━━━━━━━━━━━━━━━\u001b[0m\u001b[37m\u001b[0m \u001b[1m0s\u001b[0m 326ms/step - loss: 0.0159\n",
            "Epoch 30: val_loss improved from 0.02689 to 0.02509, saving model to /content/drive/MyDrive/Unb/Autoencoder_Checkpoints_3/autoencoder_best.h5\n"
          ]
        },
        {
          "output_type": "stream",
          "name": "stderr",
          "text": [
            "WARNING:absl:You are saving your model as an HDF5 file via `model.save()` or `keras.saving.save_model(model)`. This file format is considered legacy. We recommend using instead the native Keras format, e.g. `model.save('my_model.keras')` or `keras.saving.save_model(model, 'my_model.keras')`. \n"
          ]
        },
        {
          "output_type": "stream",
          "name": "stdout",
          "text": [
            "\b\b\b\b\b\b\b\b\b\b\b\b\b\b\b\b\b\b\b\b\b\b\b\b\b\b\b\b\b\b\b\b\b\b\b\b\b\b\b\b\b\b\b\b\b\b\b\b\b\b\b\b\b\b\b\r\u001b[1m18/18\u001b[0m \u001b[32m━━━━━━━━━━━━━━━━━━━━\u001b[0m\u001b[37m\u001b[0m \u001b[1m6s\u001b[0m 365ms/step - loss: 0.0159 - val_loss: 0.0251 - learning_rate: 2.5000e-04\n",
            "Epoch 31/50\n",
            "\u001b[1m18/18\u001b[0m \u001b[32m━━━━━━━━━━━━━━━━━━━━\u001b[0m\u001b[37m\u001b[0m \u001b[1m0s\u001b[0m 218ms/step - loss: 0.0153\n",
            "Epoch 31: val_loss did not improve from 0.02509\n",
            "\u001b[1m18/18\u001b[0m \u001b[32m━━━━━━━━━━━━━━━━━━━━\u001b[0m\u001b[37m\u001b[0m \u001b[1m8s\u001b[0m 239ms/step - loss: 0.0153 - val_loss: 0.0264 - learning_rate: 2.5000e-04\n",
            "Epoch 32/50\n",
            "\u001b[1m18/18\u001b[0m \u001b[32m━━━━━━━━━━━━━━━━━━━━\u001b[0m\u001b[37m\u001b[0m \u001b[1m0s\u001b[0m 375ms/step - loss: 0.0149\n",
            "Epoch 32: val_loss improved from 0.02509 to 0.02509, saving model to /content/drive/MyDrive/Unb/Autoencoder_Checkpoints_3/autoencoder_best.h5\n"
          ]
        },
        {
          "output_type": "stream",
          "name": "stderr",
          "text": [
            "WARNING:absl:You are saving your model as an HDF5 file via `model.save()` or `keras.saving.save_model(model)`. This file format is considered legacy. We recommend using instead the native Keras format, e.g. `model.save('my_model.keras')` or `keras.saving.save_model(model, 'my_model.keras')`. \n"
          ]
        },
        {
          "output_type": "stream",
          "name": "stdout",
          "text": [
            "\b\b\b\b\b\b\b\b\b\b\b\b\b\b\b\b\b\b\b\b\b\b\b\b\b\b\b\b\b\b\b\b\b\b\b\b\b\b\b\b\b\b\b\b\b\b\b\b\b\b\b\b\b\b\b\r\u001b[1m18/18\u001b[0m \u001b[32m━━━━━━━━━━━━━━━━━━━━\u001b[0m\u001b[37m\u001b[0m \u001b[1m8s\u001b[0m 428ms/step - loss: 0.0149 - val_loss: 0.0251 - learning_rate: 2.5000e-04\n",
            "Epoch 33/50\n",
            "\u001b[1m18/18\u001b[0m \u001b[32m━━━━━━━━━━━━━━━━━━━━\u001b[0m\u001b[37m\u001b[0m \u001b[1m0s\u001b[0m 226ms/step - loss: 0.0146\n",
            "Epoch 33: val_loss did not improve from 0.02509\n",
            "\u001b[1m18/18\u001b[0m \u001b[32m━━━━━━━━━━━━━━━━━━━━\u001b[0m\u001b[37m\u001b[0m \u001b[1m7s\u001b[0m 247ms/step - loss: 0.0146 - val_loss: 0.0252 - learning_rate: 2.5000e-04\n",
            "Epoch 34/50\n",
            "\u001b[1m18/18\u001b[0m \u001b[32m━━━━━━━━━━━━━━━━━━━━\u001b[0m\u001b[37m\u001b[0m \u001b[1m0s\u001b[0m 319ms/step - loss: 0.0143\n",
            "Epoch 34: val_loss improved from 0.02509 to 0.02456, saving model to /content/drive/MyDrive/Unb/Autoencoder_Checkpoints_3/autoencoder_best.h5\n"
          ]
        },
        {
          "output_type": "stream",
          "name": "stderr",
          "text": [
            "WARNING:absl:You are saving your model as an HDF5 file via `model.save()` or `keras.saving.save_model(model)`. This file format is considered legacy. We recommend using instead the native Keras format, e.g. `model.save('my_model.keras')` or `keras.saving.save_model(model, 'my_model.keras')`. \n"
          ]
        },
        {
          "output_type": "stream",
          "name": "stdout",
          "text": [
            "\b\b\b\b\b\b\b\b\b\b\b\b\b\b\b\b\b\b\b\b\b\b\b\b\b\b\b\b\b\b\b\b\b\b\b\b\b\b\b\b\b\b\b\b\b\b\b\b\b\b\b\b\b\b\b\r\u001b[1m18/18\u001b[0m \u001b[32m━━━━━━━━━━━━━━━━━━━━\u001b[0m\u001b[37m\u001b[0m \u001b[1m7s\u001b[0m 376ms/step - loss: 0.0143 - val_loss: 0.0246 - learning_rate: 2.5000e-04\n",
            "Epoch 35/50\n",
            "\u001b[1m18/18\u001b[0m \u001b[32m━━━━━━━━━━━━━━━━━━━━\u001b[0m\u001b[37m\u001b[0m \u001b[1m0s\u001b[0m 220ms/step - loss: 0.0141\n",
            "Epoch 35: val_loss improved from 0.02456 to 0.02325, saving model to /content/drive/MyDrive/Unb/Autoencoder_Checkpoints_3/autoencoder_best.h5\n"
          ]
        },
        {
          "output_type": "stream",
          "name": "stderr",
          "text": [
            "WARNING:absl:You are saving your model as an HDF5 file via `model.save()` or `keras.saving.save_model(model)`. This file format is considered legacy. We recommend using instead the native Keras format, e.g. `model.save('my_model.keras')` or `keras.saving.save_model(model, 'my_model.keras')`. \n"
          ]
        },
        {
          "output_type": "stream",
          "name": "stdout",
          "text": [
            "\b\b\b\b\b\b\b\b\b\b\b\b\b\b\b\b\b\b\b\b\b\b\b\b\b\b\b\b\b\b\b\b\b\b\b\b\b\b\b\b\b\b\b\b\b\b\b\b\b\b\b\b\b\b\b\r\u001b[1m18/18\u001b[0m \u001b[32m━━━━━━━━━━━━━━━━━━━━\u001b[0m\u001b[37m\u001b[0m \u001b[1m8s\u001b[0m 252ms/step - loss: 0.0141 - val_loss: 0.0232 - learning_rate: 2.5000e-04\n",
            "Epoch 36/50\n",
            "\u001b[1m18/18\u001b[0m \u001b[32m━━━━━━━━━━━━━━━━━━━━\u001b[0m\u001b[37m\u001b[0m \u001b[1m0s\u001b[0m 343ms/step - loss: 0.0141\n",
            "Epoch 36: val_loss improved from 0.02325 to 0.02306, saving model to /content/drive/MyDrive/Unb/Autoencoder_Checkpoints_3/autoencoder_best.h5\n"
          ]
        },
        {
          "output_type": "stream",
          "name": "stderr",
          "text": [
            "WARNING:absl:You are saving your model as an HDF5 file via `model.save()` or `keras.saving.save_model(model)`. This file format is considered legacy. We recommend using instead the native Keras format, e.g. `model.save('my_model.keras')` or `keras.saving.save_model(model, 'my_model.keras')`. \n"
          ]
        },
        {
          "output_type": "stream",
          "name": "stdout",
          "text": [
            "\b\b\b\b\b\b\b\b\b\b\b\b\b\b\b\b\b\b\b\b\b\b\b\b\b\b\b\b\b\b\b\b\b\b\b\b\b\b\b\b\b\b\b\b\b\b\b\b\b\b\b\b\b\b\b\r\u001b[1m18/18\u001b[0m \u001b[32m━━━━━━━━━━━━━━━━━━━━\u001b[0m\u001b[37m\u001b[0m \u001b[1m7s\u001b[0m 377ms/step - loss: 0.0141 - val_loss: 0.0231 - learning_rate: 2.5000e-04\n",
            "Epoch 37/50\n",
            "\u001b[1m18/18\u001b[0m \u001b[32m━━━━━━━━━━━━━━━━━━━━\u001b[0m\u001b[37m\u001b[0m \u001b[1m0s\u001b[0m 234ms/step - loss: 0.0142\n",
            "Epoch 37: val_loss improved from 0.02306 to 0.02272, saving model to /content/drive/MyDrive/Unb/Autoencoder_Checkpoints_3/autoencoder_best.h5\n"
          ]
        },
        {
          "output_type": "stream",
          "name": "stderr",
          "text": [
            "WARNING:absl:You are saving your model as an HDF5 file via `model.save()` or `keras.saving.save_model(model)`. This file format is considered legacy. We recommend using instead the native Keras format, e.g. `model.save('my_model.keras')` or `keras.saving.save_model(model, 'my_model.keras')`. \n"
          ]
        },
        {
          "output_type": "stream",
          "name": "stdout",
          "text": [
            "\b\b\b\b\b\b\b\b\b\b\b\b\b\b\b\b\b\b\b\b\b\b\b\b\b\b\b\b\b\b\b\b\b\b\b\b\b\b\b\b\b\b\b\b\b\b\b\b\b\b\b\b\b\b\b\r\u001b[1m18/18\u001b[0m \u001b[32m━━━━━━━━━━━━━━━━━━━━\u001b[0m\u001b[37m\u001b[0m \u001b[1m9s\u001b[0m 289ms/step - loss: 0.0142 - val_loss: 0.0227 - learning_rate: 2.5000e-04\n",
            "Epoch 38/50\n",
            "\u001b[1m18/18\u001b[0m \u001b[32m━━━━━━━━━━━━━━━━━━━━\u001b[0m\u001b[37m\u001b[0m \u001b[1m0s\u001b[0m 347ms/step - loss: 0.0135\n",
            "Epoch 38: val_loss improved from 0.02272 to 0.02246, saving model to /content/drive/MyDrive/Unb/Autoencoder_Checkpoints_3/autoencoder_best.h5\n"
          ]
        },
        {
          "output_type": "stream",
          "name": "stderr",
          "text": [
            "WARNING:absl:You are saving your model as an HDF5 file via `model.save()` or `keras.saving.save_model(model)`. This file format is considered legacy. We recommend using instead the native Keras format, e.g. `model.save('my_model.keras')` or `keras.saving.save_model(model, 'my_model.keras')`. \n"
          ]
        },
        {
          "output_type": "stream",
          "name": "stdout",
          "text": [
            "\b\b\b\b\b\b\b\b\b\b\b\b\b\b\b\b\b\b\b\b\b\b\b\b\b\b\b\b\b\b\b\b\b\b\b\b\b\b\b\b\b\b\b\b\b\b\b\b\b\b\b\b\b\b\b\r\u001b[1m18/18\u001b[0m \u001b[32m━━━━━━━━━━━━━━━━━━━━\u001b[0m\u001b[37m\u001b[0m \u001b[1m7s\u001b[0m 382ms/step - loss: 0.0135 - val_loss: 0.0225 - learning_rate: 2.5000e-04\n",
            "Epoch 39/50\n",
            "\u001b[1m18/18\u001b[0m \u001b[32m━━━━━━━━━━━━━━━━━━━━\u001b[0m\u001b[37m\u001b[0m \u001b[1m0s\u001b[0m 214ms/step - loss: 0.0136\n",
            "Epoch 39: val_loss did not improve from 0.02246\n",
            "\u001b[1m18/18\u001b[0m \u001b[32m━━━━━━━━━━━━━━━━━━━━\u001b[0m\u001b[37m\u001b[0m \u001b[1m8s\u001b[0m 235ms/step - loss: 0.0136 - val_loss: 0.0236 - learning_rate: 2.5000e-04\n",
            "Epoch 40/50\n",
            "\u001b[1m18/18\u001b[0m \u001b[32m━━━━━━━━━━━━━━━━━━━━\u001b[0m\u001b[37m\u001b[0m \u001b[1m0s\u001b[0m 297ms/step - loss: 0.0135\n",
            "Epoch 40: val_loss improved from 0.02246 to 0.02164, saving model to /content/drive/MyDrive/Unb/Autoencoder_Checkpoints_3/autoencoder_best.h5\n"
          ]
        },
        {
          "output_type": "stream",
          "name": "stderr",
          "text": [
            "WARNING:absl:You are saving your model as an HDF5 file via `model.save()` or `keras.saving.save_model(model)`. This file format is considered legacy. We recommend using instead the native Keras format, e.g. `model.save('my_model.keras')` or `keras.saving.save_model(model, 'my_model.keras')`. \n"
          ]
        },
        {
          "output_type": "stream",
          "name": "stdout",
          "text": [
            "\b\b\b\b\b\b\b\b\b\b\b\b\b\b\b\b\b\b\b\b\b\b\b\b\b\b\b\b\b\b\b\b\b\b\b\b\b\b\b\b\b\b\b\b\b\b\b\b\b\b\b\b\b\b\b\r\u001b[1m18/18\u001b[0m \u001b[32m━━━━━━━━━━━━━━━━━━━━\u001b[0m\u001b[37m\u001b[0m \u001b[1m8s\u001b[0m 350ms/step - loss: 0.0135 - val_loss: 0.0216 - learning_rate: 2.5000e-04\n",
            "Epoch 41/50\n",
            "\u001b[1m18/18\u001b[0m \u001b[32m━━━━━━━━━━━━━━━━━━━━\u001b[0m\u001b[37m\u001b[0m \u001b[1m0s\u001b[0m 238ms/step - loss: 0.0135\n",
            "Epoch 41: val_loss did not improve from 0.02164\n",
            "\u001b[1m18/18\u001b[0m \u001b[32m━━━━━━━━━━━━━━━━━━━━\u001b[0m\u001b[37m\u001b[0m \u001b[1m5s\u001b[0m 256ms/step - loss: 0.0135 - val_loss: 0.0220 - learning_rate: 2.5000e-04\n",
            "Epoch 42/50\n",
            "\u001b[1m18/18\u001b[0m \u001b[32m━━━━━━━━━━━━━━━━━━━━\u001b[0m\u001b[37m\u001b[0m \u001b[1m0s\u001b[0m 289ms/step - loss: 0.0131\n",
            "Epoch 42: val_loss did not improve from 0.02164\n",
            "\u001b[1m18/18\u001b[0m \u001b[32m━━━━━━━━━━━━━━━━━━━━\u001b[0m\u001b[37m\u001b[0m \u001b[1m6s\u001b[0m 331ms/step - loss: 0.0131 - val_loss: 0.0226 - learning_rate: 2.5000e-04\n",
            "Epoch 43/50\n",
            "\u001b[1m18/18\u001b[0m \u001b[32m━━━━━━━━━━━━━━━━━━━━\u001b[0m\u001b[37m\u001b[0m \u001b[1m0s\u001b[0m 230ms/step - loss: 0.0131\n",
            "Epoch 43: val_loss did not improve from 0.02164\n",
            "\u001b[1m18/18\u001b[0m \u001b[32m━━━━━━━━━━━━━━━━━━━━\u001b[0m\u001b[37m\u001b[0m \u001b[1m9s\u001b[0m 251ms/step - loss: 0.0131 - val_loss: 0.0225 - learning_rate: 2.5000e-04\n",
            "Epoch 44/50\n",
            "\u001b[1m18/18\u001b[0m \u001b[32m━━━━━━━━━━━━━━━━━━━━\u001b[0m\u001b[37m\u001b[0m \u001b[1m0s\u001b[0m 318ms/step - loss: 0.0134\n",
            "Epoch 44: val_loss did not improve from 0.02164\n",
            "\u001b[1m18/18\u001b[0m \u001b[32m━━━━━━━━━━━━━━━━━━━━\u001b[0m\u001b[37m\u001b[0m \u001b[1m6s\u001b[0m 349ms/step - loss: 0.0134 - val_loss: 0.0240 - learning_rate: 2.5000e-04\n",
            "Epoch 45/50\n",
            "\u001b[1m18/18\u001b[0m \u001b[32m━━━━━━━━━━━━━━━━━━━━\u001b[0m\u001b[37m\u001b[0m \u001b[1m0s\u001b[0m 229ms/step - loss: 0.0134\n",
            "Epoch 45: val_loss improved from 0.02164 to 0.02142, saving model to /content/drive/MyDrive/Unb/Autoencoder_Checkpoints_3/autoencoder_best.h5\n"
          ]
        },
        {
          "output_type": "stream",
          "name": "stderr",
          "text": [
            "WARNING:absl:You are saving your model as an HDF5 file via `model.save()` or `keras.saving.save_model(model)`. This file format is considered legacy. We recommend using instead the native Keras format, e.g. `model.save('my_model.keras')` or `keras.saving.save_model(model, 'my_model.keras')`. \n"
          ]
        },
        {
          "output_type": "stream",
          "name": "stdout",
          "text": [
            "\b\b\b\b\b\b\b\b\b\b\b\b\b\b\b\b\b\b\b\b\b\b\b\b\b\b\b\b\b\b\b\b\b\b\b\b\b\b\b\b\b\b\b\b\b\b\b\b\b\b\b\b\b\b\b\r\u001b[1m18/18\u001b[0m \u001b[32m━━━━━━━━━━━━━━━━━━━━\u001b[0m\u001b[37m\u001b[0m \u001b[1m9s\u001b[0m 280ms/step - loss: 0.0134 - val_loss: 0.0214 - learning_rate: 2.5000e-04\n",
            "Epoch 46/50\n",
            "\u001b[1m18/18\u001b[0m \u001b[32m━━━━━━━━━━━━━━━━━━━━\u001b[0m\u001b[37m\u001b[0m \u001b[1m0s\u001b[0m 336ms/step - loss: 0.0130\n",
            "Epoch 46: val_loss did not improve from 0.02142\n",
            "\u001b[1m18/18\u001b[0m \u001b[32m━━━━━━━━━━━━━━━━━━━━\u001b[0m\u001b[37m\u001b[0m \u001b[1m6s\u001b[0m 353ms/step - loss: 0.0130 - val_loss: 0.0217 - learning_rate: 2.5000e-04\n",
            "Epoch 47/50\n",
            "\u001b[1m18/18\u001b[0m \u001b[32m━━━━━━━━━━━━━━━━━━━━\u001b[0m\u001b[37m\u001b[0m \u001b[1m0s\u001b[0m 210ms/step - loss: 0.0125\n",
            "Epoch 47: val_loss improved from 0.02142 to 0.02106, saving model to /content/drive/MyDrive/Unb/Autoencoder_Checkpoints_3/autoencoder_best.h5\n"
          ]
        },
        {
          "output_type": "stream",
          "name": "stderr",
          "text": [
            "WARNING:absl:You are saving your model as an HDF5 file via `model.save()` or `keras.saving.save_model(model)`. This file format is considered legacy. We recommend using instead the native Keras format, e.g. `model.save('my_model.keras')` or `keras.saving.save_model(model, 'my_model.keras')`. \n"
          ]
        },
        {
          "output_type": "stream",
          "name": "stdout",
          "text": [
            "\b\b\b\b\b\b\b\b\b\b\b\b\b\b\b\b\b\b\b\b\b\b\b\b\b\b\b\b\b\b\b\b\b\b\b\b\b\b\b\b\b\b\b\b\b\b\b\b\b\b\b\b\b\b\b\r\u001b[1m18/18\u001b[0m \u001b[32m━━━━━━━━━━━━━━━━━━━━\u001b[0m\u001b[37m\u001b[0m \u001b[1m9s\u001b[0m 264ms/step - loss: 0.0125 - val_loss: 0.0211 - learning_rate: 2.5000e-04\n",
            "Epoch 48/50\n",
            "\u001b[1m18/18\u001b[0m \u001b[32m━━━━━━━━━━━━━━━━━━━━\u001b[0m\u001b[37m\u001b[0m \u001b[1m0s\u001b[0m 328ms/step - loss: 0.0126\n",
            "Epoch 48: val_loss did not improve from 0.02106\n",
            "\u001b[1m18/18\u001b[0m \u001b[32m━━━━━━━━━━━━━━━━━━━━\u001b[0m\u001b[37m\u001b[0m \u001b[1m6s\u001b[0m 349ms/step - loss: 0.0126 - val_loss: 0.0215 - learning_rate: 2.5000e-04\n",
            "Epoch 49/50\n",
            "\u001b[1m18/18\u001b[0m \u001b[32m━━━━━━━━━━━━━━━━━━━━\u001b[0m\u001b[37m\u001b[0m \u001b[1m0s\u001b[0m 228ms/step - loss: 0.0128\n",
            "Epoch 49: val_loss did not improve from 0.02106\n",
            "\u001b[1m18/18\u001b[0m \u001b[32m━━━━━━━━━━━━━━━━━━━━\u001b[0m\u001b[37m\u001b[0m \u001b[1m9s\u001b[0m 249ms/step - loss: 0.0128 - val_loss: 0.0214 - learning_rate: 2.5000e-04\n",
            "Epoch 50/50\n",
            "\u001b[1m18/18\u001b[0m \u001b[32m━━━━━━━━━━━━━━━━━━━━\u001b[0m\u001b[37m\u001b[0m \u001b[1m0s\u001b[0m 337ms/step - loss: 0.0124\n",
            "Epoch 50: val_loss did not improve from 0.02106\n",
            "\u001b[1m18/18\u001b[0m \u001b[32m━━━━━━━━━━━━━━━━━━━━\u001b[0m\u001b[37m\u001b[0m \u001b[1m7s\u001b[0m 358ms/step - loss: 0.0124 - val_loss: 0.0218 - learning_rate: 2.5000e-04\n"
          ]
        },
        {
          "output_type": "stream",
          "name": "stderr",
          "text": [
            "WARNING:absl:You are saving your model as an HDF5 file via `model.save()` or `keras.saving.save_model(model)`. This file format is considered legacy. We recommend using instead the native Keras format, e.g. `model.save('my_model.keras')` or `keras.saving.save_model(model, 'my_model.keras')`. \n"
          ]
        },
        {
          "output_type": "stream",
          "name": "stdout",
          "text": [
            "    epoch      loss  val_loss\n",
            "45     45  0.012904  0.021734\n",
            "46     46  0.012613  0.021057\n",
            "47     47  0.012525  0.021512\n",
            "48     48  0.012638  0.021403\n",
            "49     49  0.012382  0.021758\n",
            "✅ Treinamento concluído. Modelo salvo em: /content/drive/MyDrive/Unb/Autoencoder_Checkpoints_3/autoencoder_final.h5\n"
          ]
        }
      ]
    },
    {
      "cell_type": "code",
      "source": [
        "# 🔹 Caminho do log salvo\n",
        "csv_logger_path = \"/content/drive/MyDrive/Unb/Autoencoder_Logs_3/training_log.csv\"\n",
        "\n",
        "# 🔹 Carregar log do treinamento\n",
        "df_logs = pd.read_csv(csv_logger_path)\n",
        "\n",
        "# 🔹 Exibir últimas 10 épocas formatadas\n",
        "df_resumo = df_logs[['epoch', 'loss', 'val_loss']].tail(10)\n",
        "df_resumo.columns = ['Época', 'Loss Treino', 'Loss Validação']\n",
        "\n",
        "# 🔹 Ajustar casas decimais\n",
        "pd.options.display.float_format = '{:.4f}'.format\n",
        "\n",
        "# 🔹 Exibir tabela formatada\n",
        "print(df_resumo)"
      ],
      "metadata": {
        "colab": {
          "base_uri": "https://localhost:8080/"
        },
        "id": "6bKVk0ScHvsG",
        "outputId": "3c373a27-c204-49a5-8aad-63c6f3488fed"
      },
      "execution_count": null,
      "outputs": [
        {
          "output_type": "stream",
          "name": "stdout",
          "text": [
            "    Época  Loss Treino  Loss Validação\n",
            "40     40       0.0133          0.0220\n",
            "41     41       0.0131          0.0226\n",
            "42     42       0.0132          0.0225\n",
            "43     43       0.0136          0.0240\n",
            "44     44       0.0132          0.0214\n",
            "45     45       0.0129          0.0217\n",
            "46     46       0.0126          0.0211\n",
            "47     47       0.0125          0.0215\n",
            "48     48       0.0126          0.0214\n",
            "49     49       0.0124          0.0218\n"
          ]
        }
      ]
    },
    {
      "cell_type": "code",
      "source": [
        "import numpy as np\n",
        "import matplotlib.pyplot as plt\n",
        "import rasterio\n",
        "import pandas as pd\n",
        "from tensorflow.keras.models import load_model\n",
        "import tensorflow.keras.losses\n",
        "\n",
        "# 🔹 Caminho do modelo treinado e de um patch de exemplo\n",
        "model_path = \"/content/drive/MyDrive/Unb/Autoencoder_Checkpoints_3/autoencoder_final.h5\"\n",
        "sample_image_path = \"/content/drive/MyDrive/Unb/Plantio_direto/Patches_32x32/patch_302.tif\"\n",
        "\n",
        "\n",
        "# Registrar manualmente a métrica MSE\n",
        "custom_objects = {\"mse\": tensorflow.keras.losses.MeanSquaredError()}\n",
        "\n",
        "# Agora carregue o modelo com a métrica registrada\n",
        "autoencoder = load_model(model_path, custom_objects=custom_objects)\n",
        "\n",
        "\n",
        "# 🔹 Função para normalizar imagem\n",
        "def normalize(img):\n",
        "    min_val, max_val = np.nanpercentile(img, [1, 99])\n",
        "    return np.clip((img - min_val) / (max_val - min_val + 1e-6), 0, 1)\n",
        "\n",
        "# 🔹 Carregar patch e processar\n",
        "with rasterio.open(sample_image_path) as dataset:\n",
        "    img = dataset.read().astype(np.float32)  # (C, H, W)\n",
        "    img_rgb = np.stack([normalize(img[3]), normalize(img[2]), normalize(img[1])], axis=-1)  # Bandas 4,3,2 (RGB)\n",
        "    img_input = np.expand_dims(img, axis=0)  # Adiciona batch dimension\n",
        "    img_input = np.transpose(img_input, (0, 2, 3, 1))\n",
        "\n",
        "\n",
        "\n",
        "# 🔹 Predição pelo autoencoder\n",
        "reconstructed = autoencoder.predict(img_input)\n",
        "reconstructed_rgb = np.stack([normalize(reconstructed[0, 3]), normalize(reconstructed[0, 2]), normalize(reconstructed[0, 1])], axis=-1)\n",
        "\n",
        "# 🔹 Definir classe atribuída (Exemplo: clustering)\n",
        "predicted_class = np.random.choice([\"Grupo 1\", \"Grupo 2\", \"Grupo 3\"])  # Substituir por classificação real\n",
        "\n",
        "# 🔹 Visualizar resultados\n",
        "fig, axes = plt.subplots(1, 3, figsize=(15, 5))\n",
        "axes[0].imshow(img_rgb)\n",
        "axes[0].set_title(\"Imagem Original\")\n",
        "axes[0].axis(\"off\")\n",
        "\n",
        "axes[1].imshow(reconstructed_rgb)\n",
        "axes[1].set_title(\"Reconstrução pelo Autoencoder\")\n",
        "axes[1].axis(\"off\")\n",
        "\n",
        "axes[2].text(0.5, 0.5, predicted_class, fontsize=20, ha='center', va='center', bbox=dict(facecolor='lightgray', edgecolor='black'))\n",
        "axes[2].set_title(\"Classe Atribuída\")\n",
        "axes[2].axis(\"off\")\n",
        "\n",
        "plt.show()\n"
      ],
      "metadata": {
        "colab": {
          "base_uri": "https://localhost:8080/",
          "height": 479
        },
        "id": "zyW3zs_LLmU7",
        "outputId": "c8b15b4d-20c5-4036-8e0b-fde042ec45a4"
      },
      "execution_count": null,
      "outputs": [
        {
          "output_type": "stream",
          "name": "stderr",
          "text": [
            "WARNING:absl:Compiled the loaded model, but the compiled metrics have yet to be built. `model.compile_metrics` will be empty until you train or evaluate the model.\n"
          ]
        },
        {
          "output_type": "stream",
          "name": "stdout",
          "text": [
            "\u001b[1m1/1\u001b[0m \u001b[32m━━━━━━━━━━━━━━━━━━━━\u001b[0m\u001b[37m\u001b[0m \u001b[1m0s\u001b[0m 443ms/step\n"
          ]
        },
        {
          "output_type": "display_data",
          "data": {
            "text/plain": [
              "<Figure size 1500x500 with 3 Axes>"
            ],
            "image/png": "[encoded data removed]"
          },
          "metadata": {}
        }
      ]
    }
  ]
}